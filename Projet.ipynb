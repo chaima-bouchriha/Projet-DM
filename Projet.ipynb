{
  "cells": [
    {
      "cell_type": "code",
      "execution_count": 1,
      "metadata": {
        "id": "zBFh532nGmTc"
      },
      "outputs": [],
      "source": [
        "import pandas as pd\n",
        "import matplotlib.pyplot as plt\n",
        "import numpy as np\n",
        "import seaborn as sns\n",
        "from sklearn.metrics import roc_auc_score\n",
        "from sklearn.linear_model import LogisticRegression \n",
        "from sklearn.model_selection import train_test_split \n",
        "from sklearn.feature_selection import SelectKBest \n",
        "from sklearn.feature_selection import mutual_info_classif \n",
        "from sklearn.model_selection import StratifiedKFold \n",
        "from sklearn.model_selection import cross_validate \n",
        "from sklearn.model_selection import GridSearchCV \n",
        "from sklearn.preprocessing import LabelEncoder \n",
        "from sklearn.linear_model import LogisticRegression \n",
        "from sklearn.neighbors import KNeighborsClassifier \n",
        "from sklearn.tree import DecisionTreeClassifier \n",
        "from sklearn.tree import export_graphviz \n",
        "from sklearn.tree import plot_tree\n",
        "import matplotlib.pyplot as plt\n",
        "from sklearn.ensemble import RandomForestClassifier \n",
        "from sklearn.svm import SVC \n",
        "from sklearn import svm \n",
        "from sklearn.metrics import confusion_matrix \n",
        "from sklearn.metrics import recall_score \n",
        "from sklearn.model_selection import KFold "
      ]
    },
    {
      "cell_type": "code",
      "execution_count": 2,
      "metadata": {
        "id": "M9I86bTEGAQL",
        "colab": {
          "base_uri": "https://localhost:8080/",
          "height": 206
        },
        "outputId": "b8313b2c-c79d-4ad5-df74-80bdd238ca07"
      },
      "outputs": [
        {
          "output_type": "execute_result",
          "data": {
            "text/html": [
              "<div>\n",
              "<style scoped>\n",
              "    .dataframe tbody tr th:only-of-type {\n",
              "        vertical-align: middle;\n",
              "    }\n",
              "\n",
              "    .dataframe tbody tr th {\n",
              "        vertical-align: top;\n",
              "    }\n",
              "\n",
              "    .dataframe thead th {\n",
              "        text-align: right;\n",
              "    }\n",
              "</style>\n",
              "<table border=\"1\" class=\"dataframe\">\n",
              "  <thead>\n",
              "    <tr style=\"text-align: right;\">\n",
              "      <th></th>\n",
              "      <th>age</th>\n",
              "      <th>job</th>\n",
              "      <th>marital</th>\n",
              "      <th>education</th>\n",
              "      <th>default</th>\n",
              "      <th>balance</th>\n",
              "      <th>housing</th>\n",
              "      <th>loan</th>\n",
              "      <th>contact</th>\n",
              "      <th>day</th>\n",
              "      <th>month</th>\n",
              "      <th>duration</th>\n",
              "      <th>campaign</th>\n",
              "      <th>pdays</th>\n",
              "      <th>previous</th>\n",
              "      <th>poutcome</th>\n",
              "      <th>deposit</th>\n",
              "    </tr>\n",
              "  </thead>\n",
              "  <tbody>\n",
              "    <tr>\n",
              "      <th>0</th>\n",
              "      <td>59</td>\n",
              "      <td>admin.</td>\n",
              "      <td>married</td>\n",
              "      <td>secondary</td>\n",
              "      <td>no</td>\n",
              "      <td>2343</td>\n",
              "      <td>yes</td>\n",
              "      <td>no</td>\n",
              "      <td>unknown</td>\n",
              "      <td>5</td>\n",
              "      <td>may</td>\n",
              "      <td>1042</td>\n",
              "      <td>1</td>\n",
              "      <td>-1</td>\n",
              "      <td>0</td>\n",
              "      <td>unknown</td>\n",
              "      <td>yes</td>\n",
              "    </tr>\n",
              "    <tr>\n",
              "      <th>1</th>\n",
              "      <td>56</td>\n",
              "      <td>admin.</td>\n",
              "      <td>married</td>\n",
              "      <td>secondary</td>\n",
              "      <td>no</td>\n",
              "      <td>45</td>\n",
              "      <td>no</td>\n",
              "      <td>no</td>\n",
              "      <td>unknown</td>\n",
              "      <td>5</td>\n",
              "      <td>may</td>\n",
              "      <td>1467</td>\n",
              "      <td>1</td>\n",
              "      <td>-1</td>\n",
              "      <td>0</td>\n",
              "      <td>unknown</td>\n",
              "      <td>yes</td>\n",
              "    </tr>\n",
              "    <tr>\n",
              "      <th>2</th>\n",
              "      <td>41</td>\n",
              "      <td>technician</td>\n",
              "      <td>married</td>\n",
              "      <td>secondary</td>\n",
              "      <td>no</td>\n",
              "      <td>1270</td>\n",
              "      <td>yes</td>\n",
              "      <td>no</td>\n",
              "      <td>unknown</td>\n",
              "      <td>5</td>\n",
              "      <td>may</td>\n",
              "      <td>1389</td>\n",
              "      <td>1</td>\n",
              "      <td>-1</td>\n",
              "      <td>0</td>\n",
              "      <td>unknown</td>\n",
              "      <td>yes</td>\n",
              "    </tr>\n",
              "    <tr>\n",
              "      <th>3</th>\n",
              "      <td>55</td>\n",
              "      <td>services</td>\n",
              "      <td>married</td>\n",
              "      <td>secondary</td>\n",
              "      <td>no</td>\n",
              "      <td>2476</td>\n",
              "      <td>yes</td>\n",
              "      <td>no</td>\n",
              "      <td>unknown</td>\n",
              "      <td>5</td>\n",
              "      <td>may</td>\n",
              "      <td>579</td>\n",
              "      <td>1</td>\n",
              "      <td>-1</td>\n",
              "      <td>0</td>\n",
              "      <td>unknown</td>\n",
              "      <td>yes</td>\n",
              "    </tr>\n",
              "    <tr>\n",
              "      <th>4</th>\n",
              "      <td>54</td>\n",
              "      <td>admin.</td>\n",
              "      <td>married</td>\n",
              "      <td>tertiary</td>\n",
              "      <td>no</td>\n",
              "      <td>184</td>\n",
              "      <td>no</td>\n",
              "      <td>no</td>\n",
              "      <td>unknown</td>\n",
              "      <td>5</td>\n",
              "      <td>may</td>\n",
              "      <td>673</td>\n",
              "      <td>2</td>\n",
              "      <td>-1</td>\n",
              "      <td>0</td>\n",
              "      <td>unknown</td>\n",
              "      <td>yes</td>\n",
              "    </tr>\n",
              "  </tbody>\n",
              "</table>\n",
              "</div>"
            ],
            "text/plain": [
              "   age         job  marital  education  ... pdays  previous poutcome deposit\n",
              "0   59      admin.  married  secondary  ...    -1         0  unknown     yes\n",
              "1   56      admin.  married  secondary  ...    -1         0  unknown     yes\n",
              "2   41  technician  married  secondary  ...    -1         0  unknown     yes\n",
              "3   55    services  married  secondary  ...    -1         0  unknown     yes\n",
              "4   54      admin.  married   tertiary  ...    -1         0  unknown     yes\n",
              "\n",
              "[5 rows x 17 columns]"
            ]
          },
          "metadata": {},
          "execution_count": 2
        }
      ],
      "source": [
        "data=pd.read_csv('/content/bank.csv')\n",
        "data.head()"
      ]
    },
    {
      "cell_type": "markdown",
      "metadata": {
        "id": "lvk7NVH1xfa1"
      },
      "source": [
        "## **Label Enocder**"
      ]
    },
    {
      "cell_type": "code",
      "execution_count": 3,
      "metadata": {
        "id": "Lf0z-jU_7yQW"
      },
      "outputs": [],
      "source": [
        "class MultiColumnLabelEncoder:\n",
        "    def __init__(self,columns = None):\n",
        "        self.columns = columns # array of column names to encode\n",
        "\n",
        "    def fit(self,X,y=None):\n",
        "        return self # not relevant here\n",
        "\n",
        "    def transform(self,X):\n",
        "        '''\n",
        "        Transforms columns of X specified in self.columns using\n",
        "        LabelEncoder(). If no columns specified, transforms all\n",
        "        columns in X.\n",
        "        '''\n",
        "        output = X.copy()\n",
        "        if self.columns is not None:\n",
        "            for col in self.columns:\n",
        "                output[col] = LabelEncoder().fit_transform(output[col])\n",
        "        else:\n",
        "            for colname,col in output.iteritems():\n",
        "                output[colname] = LabelEncoder().fit_transform(col)\n",
        "        return output\n",
        "\n",
        "    def fit_transform(self,X,y=None):\n",
        "        return self.fit(X,y).transform(X)\n"
      ]
    },
    {
      "cell_type": "code",
      "execution_count": 4,
      "metadata": {
        "id": "kkMNPZJ27zWv",
        "colab": {
          "base_uri": "https://localhost:8080/",
          "height": 206
        },
        "outputId": "f7ca4ac9-425a-4fba-90aa-d7870eb27028"
      },
      "outputs": [
        {
          "output_type": "execute_result",
          "data": {
            "text/html": [
              "<div>\n",
              "<style scoped>\n",
              "    .dataframe tbody tr th:only-of-type {\n",
              "        vertical-align: middle;\n",
              "    }\n",
              "\n",
              "    .dataframe tbody tr th {\n",
              "        vertical-align: top;\n",
              "    }\n",
              "\n",
              "    .dataframe thead th {\n",
              "        text-align: right;\n",
              "    }\n",
              "</style>\n",
              "<table border=\"1\" class=\"dataframe\">\n",
              "  <thead>\n",
              "    <tr style=\"text-align: right;\">\n",
              "      <th></th>\n",
              "      <th>age</th>\n",
              "      <th>job</th>\n",
              "      <th>marital</th>\n",
              "      <th>education</th>\n",
              "      <th>default</th>\n",
              "      <th>balance</th>\n",
              "      <th>housing</th>\n",
              "      <th>loan</th>\n",
              "      <th>contact</th>\n",
              "      <th>day</th>\n",
              "      <th>month</th>\n",
              "      <th>duration</th>\n",
              "      <th>campaign</th>\n",
              "      <th>pdays</th>\n",
              "      <th>previous</th>\n",
              "      <th>poutcome</th>\n",
              "      <th>deposit</th>\n",
              "    </tr>\n",
              "  </thead>\n",
              "  <tbody>\n",
              "    <tr>\n",
              "      <th>0</th>\n",
              "      <td>59</td>\n",
              "      <td>0</td>\n",
              "      <td>1</td>\n",
              "      <td>1</td>\n",
              "      <td>0</td>\n",
              "      <td>2343</td>\n",
              "      <td>1</td>\n",
              "      <td>0</td>\n",
              "      <td>2</td>\n",
              "      <td>5</td>\n",
              "      <td>8</td>\n",
              "      <td>1042</td>\n",
              "      <td>1</td>\n",
              "      <td>-1</td>\n",
              "      <td>0</td>\n",
              "      <td>3</td>\n",
              "      <td>1</td>\n",
              "    </tr>\n",
              "    <tr>\n",
              "      <th>1</th>\n",
              "      <td>56</td>\n",
              "      <td>0</td>\n",
              "      <td>1</td>\n",
              "      <td>1</td>\n",
              "      <td>0</td>\n",
              "      <td>45</td>\n",
              "      <td>0</td>\n",
              "      <td>0</td>\n",
              "      <td>2</td>\n",
              "      <td>5</td>\n",
              "      <td>8</td>\n",
              "      <td>1467</td>\n",
              "      <td>1</td>\n",
              "      <td>-1</td>\n",
              "      <td>0</td>\n",
              "      <td>3</td>\n",
              "      <td>1</td>\n",
              "    </tr>\n",
              "    <tr>\n",
              "      <th>2</th>\n",
              "      <td>41</td>\n",
              "      <td>9</td>\n",
              "      <td>1</td>\n",
              "      <td>1</td>\n",
              "      <td>0</td>\n",
              "      <td>1270</td>\n",
              "      <td>1</td>\n",
              "      <td>0</td>\n",
              "      <td>2</td>\n",
              "      <td>5</td>\n",
              "      <td>8</td>\n",
              "      <td>1389</td>\n",
              "      <td>1</td>\n",
              "      <td>-1</td>\n",
              "      <td>0</td>\n",
              "      <td>3</td>\n",
              "      <td>1</td>\n",
              "    </tr>\n",
              "    <tr>\n",
              "      <th>3</th>\n",
              "      <td>55</td>\n",
              "      <td>7</td>\n",
              "      <td>1</td>\n",
              "      <td>1</td>\n",
              "      <td>0</td>\n",
              "      <td>2476</td>\n",
              "      <td>1</td>\n",
              "      <td>0</td>\n",
              "      <td>2</td>\n",
              "      <td>5</td>\n",
              "      <td>8</td>\n",
              "      <td>579</td>\n",
              "      <td>1</td>\n",
              "      <td>-1</td>\n",
              "      <td>0</td>\n",
              "      <td>3</td>\n",
              "      <td>1</td>\n",
              "    </tr>\n",
              "    <tr>\n",
              "      <th>4</th>\n",
              "      <td>54</td>\n",
              "      <td>0</td>\n",
              "      <td>1</td>\n",
              "      <td>2</td>\n",
              "      <td>0</td>\n",
              "      <td>184</td>\n",
              "      <td>0</td>\n",
              "      <td>0</td>\n",
              "      <td>2</td>\n",
              "      <td>5</td>\n",
              "      <td>8</td>\n",
              "      <td>673</td>\n",
              "      <td>2</td>\n",
              "      <td>-1</td>\n",
              "      <td>0</td>\n",
              "      <td>3</td>\n",
              "      <td>1</td>\n",
              "    </tr>\n",
              "  </tbody>\n",
              "</table>\n",
              "</div>"
            ],
            "text/plain": [
              "   age  job  marital  education  ...  pdays  previous  poutcome  deposit\n",
              "0   59    0        1          1  ...     -1         0         3        1\n",
              "1   56    0        1          1  ...     -1         0         3        1\n",
              "2   41    9        1          1  ...     -1         0         3        1\n",
              "3   55    7        1          1  ...     -1         0         3        1\n",
              "4   54    0        1          2  ...     -1         0         3        1\n",
              "\n",
              "[5 rows x 17 columns]"
            ]
          },
          "metadata": {},
          "execution_count": 4
        }
      ],
      "source": [
        "data = MultiColumnLabelEncoder(columns = ['job','marital','education', 'default','housing','loan','contact','month','poutcome','deposit']).fit_transform(data)\n",
        "data.head()"
      ]
    },
    {
      "cell_type": "markdown",
      "metadata": {
        "id": "0e1lVEkDxlLa"
      },
      "source": [
        "## **Checking if data is balanced**"
      ]
    },
    {
      "cell_type": "code",
      "execution_count": 5,
      "metadata": {
        "colab": {
          "base_uri": "https://localhost:8080/"
        },
        "id": "ACgl1HWws7sm",
        "outputId": "1b49b3d7-92e5-46e8-b84b-a864df06d309"
      },
      "outputs": [
        {
          "output_type": "stream",
          "name": "stdout",
          "text": [
            "Class 0: 5873\n",
            "Class 1: 5289\n",
            "Proportion: 1.11 : 1\n"
          ]
        }
      ],
      "source": [
        "target_count = data.deposit.value_counts()\n",
        "print('Class 0:', target_count[0])\n",
        "print('Class 1:', target_count[1])\n",
        "print('Proportion:', round(target_count[0] / target_count[1], 2), ': 1')"
      ]
    },
    {
      "cell_type": "markdown",
      "metadata": {
        "id": "h4o7HqwmvXNW"
      },
      "source": [
        "Our data is balanced ; prportion close to 1 "
      ]
    },
    {
      "cell_type": "code",
      "execution_count": 6,
      "metadata": {
        "colab": {
          "base_uri": "https://localhost:8080/",
          "height": 295
        },
        "id": "W4mtuUndKJ8E",
        "outputId": "7ad1b14b-985a-4f0a-cad8-9ab52b09ede8"
      },
      "outputs": [
        {
          "output_type": "execute_result",
          "data": {
            "text/plain": [
              "<matplotlib.axes._subplots.AxesSubplot at 0x7f7b0747c150>"
            ]
          },
          "metadata": {},
          "execution_count": 6
        },
        {
          "output_type": "display_data",
          "data": {
            "image/png": "[encoded data removed]",
            "text/plain": [
              "<Figure size 432x288 with 1 Axes>"
            ]
          },
          "metadata": {
            "needs_background": "light"
          }
        }
      ],
      "source": [
        "target_count.plot(kind='bar', title='Count (target)')"
      ]
    },
    {
      "cell_type": "markdown",
      "metadata": {
        "id": "t3qRycUnx1ti"
      },
      "source": [
        "## **Splitting data into Train Test** "
      ]
    },
    {
      "cell_type": "code",
      "execution_count": 7,
      "metadata": {
        "id": "I-eUUPJRtf97"
      },
      "outputs": [],
      "source": [
        "# features\n",
        "X = data.drop('deposit', axis=1)\n",
        "# target\n",
        "y=data['deposit']\n",
        "X_train, X_test, y_train, y_test = train_test_split(X, y, test_size=0.3, random_state=0)"
      ]
    },
    {
      "cell_type": "code",
      "execution_count": 10,
      "metadata": {
        "colab": {
          "base_uri": "https://localhost:8080/"
        },
        "id": "avU88uXbLJLy",
        "outputId": "33aa4149-4cbc-4f7f-df5f-ec1c58de9515"
      },
      "outputs": [
        {
          "output_type": "stream",
          "name": "stdout",
          "text": [
            "len(X_train)= 7813\n",
            "len(y_train)= 7813\n",
            "(7813, 16)\n",
            "(7813,)\n",
            "(3349, 16)\n",
            "(3349,)\n"
          ]
        }
      ],
      "source": [
        "columns = X_train.columns\n",
        "print(\"len(X_train)=\",len(X_train))\n",
        "print(\"len(y_train)=\",len(y_train))\n",
        "\n",
        "#X_train.info()\n",
        "print(np.shape(X_train))\n",
        "print(np.shape(y_train))\n",
        "print(np.shape(X_test))\n",
        "print(np.shape(y_test))\n"
      ]
    },
    {
      "cell_type": "markdown",
      "metadata": {
        "id": "RDoetX3sxQbP"
      },
      "source": [
        "## **Logistic Regression**"
      ]
    },
    {
      "cell_type": "code",
      "execution_count": 16,
      "metadata": {
        "colab": {
          "base_uri": "https://localhost:8080/"
        },
        "id": "CG4nHsyOJVp2",
        "outputId": "683a7d84-fe0e-4d0d-9b86-8da690212052"
      },
      "outputs": [
        {
          "output_type": "stream",
          "name": "stdout",
          "text": [
            "tuned hyperparameters:(best parameters  {'C': 100.0, 'penalty': 'l2', 'solver': 'liblinear'}\n",
            "accuracy  0.7999498970105217\n"
          ]
        }
      ],
      "source": [
        "logreg=LogisticRegression()\n",
        "grid={\"C\":np.logspace(-3,3,7), \"penalty\":[\"l1\",\"l2\"],\"solver\": ['liblinear']}\n",
        "logreg_cv=GridSearchCV(logreg,grid,cv=10)\n",
        "logreg_cv.fit(X_train,y_train)\n",
        "print(\"tuned hyperparameters:(best parameters \",logreg_cv.best_params_)\n",
        "print(\"accuracy \",logreg_cv.best_score_)"
      ]
    },
    {
      "cell_type": "code",
      "execution_count": 17,
      "metadata": {
        "id": "Bh0RDCgLKoh0"
      },
      "outputs": [],
      "source": [
        "logreg=LogisticRegression(C=100.0,penalty=\"l2\",solver=\"liblinear\",random_state=0)"
      ]
    },
    {
      "cell_type": "code",
      "execution_count": 21,
      "metadata": {
        "colab": {
          "base_uri": "https://localhost:8080/"
        },
        "id": "bfz24eNWv_xQ",
        "outputId": "4cd35682-fafe-43ba-9968-e0ffe5c120a4"
      },
      "outputs": [
        {
          "output_type": "execute_result",
          "data": {
            "text/plain": [
              "LogisticRegression(C=100.0, random_state=0, solver='liblinear')"
            ]
          },
          "metadata": {},
          "execution_count": 21
        }
      ],
      "source": [
        "logreg.fit(X_train,y_train)"
      ]
    },
    {
      "cell_type": "code",
      "execution_count": 22,
      "metadata": {
        "colab": {
          "base_uri": "https://localhost:8080/"
        },
        "id": "9hg9gqEFv_u3",
        "outputId": "99c158ec-6baf-4898-86ba-167128ab449c"
      },
      "outputs": [
        {
          "output_type": "execute_result",
          "data": {
            "text/plain": [
              "0.7945655419528217"
            ]
          },
          "metadata": {},
          "execution_count": 22
        }
      ],
      "source": [
        "logreg.predict(X_test)\n",
        "logreg.score(X_test,y_test)"
      ]
    },
    {
      "cell_type": "code",
      "execution_count": 23,
      "metadata": {
        "colab": {
          "base_uri": "https://localhost:8080/",
          "height": 282
        },
        "id": "42up-B81v_rO",
        "outputId": "6b68691c-6c91-4994-ddaf-5edfaa07c3b9"
      },
      "outputs": [
        {
          "output_type": "execute_result",
          "data": {
            "text/plain": [
              "<matplotlib.axes._subplots.AxesSubplot at 0x7f6ee9d97e50>"
            ]
          },
          "metadata": {},
          "execution_count": 23
        },
        {
          "output_type": "display_data",
          "data": {
            "image/png": "[encoded data removed]",
            "text/plain": [
              "<Figure size 432x288 with 2 Axes>"
            ]
          },
          "metadata": {
            "needs_background": "light"
          }
        }
      ],
      "source": [
        "confusion=confusion_matrix(y_test, logreg.predict(X_test))\n",
        "sns.heatmap(confusion,annot=True)"
      ]
    },
    {
      "cell_type": "code",
      "execution_count": 24,
      "metadata": {
        "id": "WLomc6t4SihE"
      },
      "outputs": [],
      "source": [
        "logreg1=LogisticRegression(C=10.0,penalty=\"l1\",solver=\"liblinear\",random_state=0)"
      ]
    },
    {
      "cell_type": "code",
      "execution_count": 25,
      "metadata": {
        "colab": {
          "base_uri": "https://localhost:8080/"
        },
        "id": "WsYUm_7zSqOJ",
        "outputId": "5023d681-ed13-4571-9930-c8699e14e16f"
      },
      "outputs": [
        {
          "output_type": "execute_result",
          "data": {
            "text/plain": [
              "0.7954613317408181"
            ]
          },
          "metadata": {},
          "execution_count": 25
        }
      ],
      "source": [
        "logreg1.fit(X_train,y_train)\n",
        "logreg1.predict(X_test)\n",
        "logreg1.score(X_test,y_test)"
      ]
    },
    {
      "cell_type": "code",
      "execution_count": 26,
      "metadata": {
        "colab": {
          "base_uri": "https://localhost:8080/",
          "height": 282
        },
        "id": "uQnE7JgkS_Ff",
        "outputId": "ad964e23-1a71-4934-d492-8a6f33b54a91"
      },
      "outputs": [
        {
          "output_type": "execute_result",
          "data": {
            "text/plain": [
              "<matplotlib.axes._subplots.AxesSubplot at 0x7f6ee9cbc410>"
            ]
          },
          "metadata": {},
          "execution_count": 26
        },
        {
          "output_type": "display_data",
          "data": {
            "image/png": "[encoded data removed]",
            "text/plain": [
              "<Figure size 432x288 with 2 Axes>"
            ]
          },
          "metadata": {
            "needs_background": "light"
          }
        }
      ],
      "source": [
        "confusion=confusion_matrix(y_test, logreg1.predict(X_test))\n",
        "sns.heatmap(confusion,annot=True)"
      ]
    },
    {
      "cell_type": "code",
      "execution_count": 27,
      "metadata": {
        "colab": {
          "base_uri": "https://localhost:8080/"
        },
        "id": "d9hUAHZySUaN",
        "outputId": "602f7c03-e6bc-4d69-ea96-bbdcc980336c"
      },
      "outputs": [
        {
          "output_type": "execute_result",
          "data": {
            "text/plain": [
              "0.7675016056518946"
            ]
          },
          "metadata": {},
          "execution_count": 27
        }
      ],
      "source": [
        "rec=recall_score(y_test,logreg.predict(X_test))\n",
        "rec"
      ]
    },
    {
      "cell_type": "code",
      "execution_count": 28,
      "metadata": {
        "colab": {
          "base_uri": "https://localhost:8080/"
        },
        "id": "8QbXU0LOSeo2",
        "outputId": "069a803c-492c-49e8-e305-d8ba9113d3bc"
      },
      "outputs": [
        {
          "output_type": "execute_result",
          "data": {
            "text/plain": [
              "0.7687861271676301"
            ]
          },
          "metadata": {},
          "execution_count": 28
        }
      ],
      "source": [
        "rec=recall_score(y_test,logreg1.predict(X_test))\n",
        "rec"
      ]
    },
    {
      "cell_type": "markdown",
      "metadata": {
        "id": "8WGAEwuoxHcV"
      },
      "source": [
        "## **Decision Tree**"
      ]
    },
    {
      "cell_type": "code",
      "execution_count": 29,
      "metadata": {
        "colab": {
          "base_uri": "https://localhost:8080/"
        },
        "id": "V3z2orGzzQsz",
        "outputId": "6110392e-6d38-4eb1-d82b-585a86974047"
      },
      "outputs": [
        {
          "output_type": "stream",
          "name": "stdout",
          "text": [
            "tuned hyperparameters:(best parameters  {'criterion': 'entropy', 'max_depth': 9, 'max_features': 'log2'}\n",
            "accuracy  0.800206356501131\n"
          ]
        }
      ],
      "source": [
        "grid = {'criterion':['gini','entropy'],'max_depth':[4,5,6,7,8,9,10,11,12], 'max_features': ['auto', 'sqrt', 'log2']}\n",
        "dec_tree= GridSearchCV(DecisionTreeClassifier(), grid, cv=5)\n",
        "dec_tree.fit(X_train,y_train)\n",
        "print(\"tuned hyperparameters:(best parameters \",dec_tree.best_params_)\n",
        "print(\"accuracy \",dec_tree.best_score_)"
      ]
    },
    {
      "cell_type": "markdown",
      "metadata": {
        "id": "PFlTkyQLMxDU"
      },
      "source": [
        "best parameters = {'criterion'='entropy',  'max_depth'=12,   'max_features'='auto'}"
      ]
    },
    {
      "cell_type": "code",
      "execution_count": 30,
      "metadata": {
        "id": "y12n5ZtY2BRs"
      },
      "outputs": [],
      "source": [
        "dec_tree_clf=DecisionTreeClassifier(criterion='entropy',max_depth=12,max_features='auto')"
      ]
    },
    {
      "cell_type": "code",
      "execution_count": 31,
      "metadata": {
        "colab": {
          "base_uri": "https://localhost:8080/"
        },
        "id": "ArGIPSQj2UN2",
        "outputId": "7450b99a-0b81-459f-8fc9-d65e4aff3e10"
      },
      "outputs": [
        {
          "output_type": "execute_result",
          "data": {
            "text/plain": [
              "DecisionTreeClassifier(criterion='entropy', max_depth=12, max_features='auto')"
            ]
          },
          "metadata": {},
          "execution_count": 31
        }
      ],
      "source": [
        "dec_tree_clf.fit(X_train,y_train)"
      ]
    },
    {
      "cell_type": "code",
      "execution_count": 32,
      "metadata": {
        "colab": {
          "base_uri": "https://localhost:8080/"
        },
        "id": "9nU2LTkH2bQJ",
        "outputId": "6ec2c4c2-59f7-46e3-9673-8960bf22a158"
      },
      "outputs": [
        {
          "output_type": "execute_result",
          "data": {
            "text/plain": [
              "0.7906837862048373"
            ]
          },
          "metadata": {},
          "execution_count": 32
        }
      ],
      "source": [
        "dec_tree_clf.predict(X_test)\n",
        "dec_tree_clf.score(X_test,y_test)"
      ]
    },
    {
      "cell_type": "code",
      "execution_count": 33,
      "metadata": {
        "colab": {
          "base_uri": "https://localhost:8080/",
          "height": 282
        },
        "id": "1CBA_EdV2wYV",
        "outputId": "eebf0a74-e024-4fd1-b111-53e6e5320388"
      },
      "outputs": [
        {
          "output_type": "execute_result",
          "data": {
            "text/plain": [
              "<matplotlib.axes._subplots.AxesSubplot at 0x7f6ee9bfddd0>"
            ]
          },
          "metadata": {},
          "execution_count": 33
        },
        {
          "output_type": "display_data",
          "data": {
            "image/png": "[encoded data removed]",
            "text/plain": [
              "<Figure size 432x288 with 2 Axes>"
            ]
          },
          "metadata": {
            "needs_background": "light"
          }
        }
      ],
      "source": [
        "confusion=confusion_matrix(y_test, dec_tree_clf.predict(X_test))\n",
        "sns.heatmap(confusion,annot=True)"
      ]
    },
    {
      "cell_type": "code",
      "execution_count": 37,
      "metadata": {
        "colab": {
          "base_uri": "https://localhost:8080/"
        },
        "id": "G3yc339n3O1D",
        "outputId": "bd089a32-d20f-4c34-c983-822e03ffe002"
      },
      "outputs": [
        {
          "output_type": "execute_result",
          "data": {
            "text/plain": [
              "0.7933711555688265"
            ]
          },
          "metadata": {},
          "execution_count": 37
        }
      ],
      "source": [
        "dec_tree_clf_2=DecisionTreeClassifier(criterion='gini',max_depth=10,max_features='log2')\n",
        "dec_tree_clf_2.fit(X_train,y_train)\n",
        "dec_tree_clf_2.predict(X_test)\n",
        "dec_tree_clf_2.score(X_test,y_test)"
      ]
    },
    {
      "cell_type": "code",
      "execution_count": 38,
      "metadata": {
        "colab": {
          "base_uri": "https://localhost:8080/",
          "height": 282
        },
        "id": "cPCmamYP7Tan",
        "outputId": "a2f3db60-57e6-4b8c-bdee-41a856b0857f"
      },
      "outputs": [
        {
          "output_type": "execute_result",
          "data": {
            "text/plain": [
              "<matplotlib.axes._subplots.AxesSubplot at 0x7f6ee93cf1d0>"
            ]
          },
          "metadata": {},
          "execution_count": 38
        },
        {
          "output_type": "display_data",
          "data": {
            "image/png": "[encoded data removed]",
            "text/plain": [
              "<Figure size 432x288 with 2 Axes>"
            ]
          },
          "metadata": {
            "needs_background": "light"
          }
        }
      ],
      "source": [
        "confusion=confusion_matrix(y_test, dec_tree_clf_2.predict(X_test))\n",
        "sns.heatmap(confusion,annot=True)"
      ]
    },
    {
      "cell_type": "code",
      "execution_count": 39,
      "metadata": {
        "colab": {
          "base_uri": "https://localhost:8080/"
        },
        "id": "XcrernwONfPW",
        "outputId": "53bf67d1-2337-4411-ae14-4084eb7e6221"
      },
      "outputs": [
        {
          "output_type": "execute_result",
          "data": {
            "text/plain": [
              "0.783558124598587"
            ]
          },
          "metadata": {},
          "execution_count": 39
        }
      ],
      "source": [
        "rec=recall_score(y_test,dec_tree_clf.predict(X_test))\n",
        "rec"
      ]
    },
    {
      "cell_type": "code",
      "execution_count": 40,
      "metadata": {
        "colab": {
          "base_uri": "https://localhost:8080/"
        },
        "id": "yTE-Vy2r9HCl",
        "outputId": "0ea655b9-7b69-42fa-872d-e797e16907cc"
      },
      "outputs": [
        {
          "output_type": "execute_result",
          "data": {
            "text/plain": [
              "0.7912652536929994"
            ]
          },
          "metadata": {},
          "execution_count": 40
        }
      ],
      "source": [
        "rec=recall_score(y_test,dec_tree_clf_2.predict(X_test))\n",
        "rec"
      ]
    },
    {
      "cell_type": "markdown",
      "metadata": {
        "id": "ceWNTFPCNjrZ"
      },
      "source": [
        "On remarque que le classifier 1 est plus performant que le classifier 2 /  0.78 et 0.739"
      ]
    },
    {
      "cell_type": "markdown",
      "metadata": {
        "id": "fCKxOIOISCNB"
      },
      "source": [
        "## **Random Forest**"
      ]
    },
    {
      "cell_type": "code",
      "execution_count": 41,
      "metadata": {
        "colab": {
          "base_uri": "https://localhost:8080/"
        },
        "id": "TCiDrIodv_oW",
        "outputId": "8c00eb34-73ed-4878-a492-121206d7bd95"
      },
      "outputs": [
        {
          "output_type": "execute_result",
          "data": {
            "text/plain": [
              "GridSearchCV(cv=StratifiedKFold(n_splits=5, random_state=None, shuffle=False),\n",
              "             estimator=RandomForestClassifier(class_weight='balanced',\n",
              "                                              random_state=10),\n",
              "             param_grid={'criterion': ['gini', 'entropy'],\n",
              "                         'max_depth': [4, 5, 6, 7, 8, 9, 10, 11, 12],\n",
              "                         'max_features': ['auto', 'sqrt', 'log2'],\n",
              "                         'n_estimators': [50, 100]},\n",
              "             scoring='roc_auc')"
            ]
          },
          "metadata": {},
          "execution_count": 41
        }
      ],
      "source": [
        "random_forest_clf= RandomForestClassifier(random_state=10, class_weight = 'balanced')\n",
        "param_grid = { \n",
        "    'n_estimators': [50, 100],\n",
        "    'max_features': ['auto', 'sqrt', 'log2'],\n",
        "    'max_depth' : [4,5,6,7,8,9,10,11,12],\n",
        "    'criterion' :['gini', 'entropy']\n",
        "}\n",
        "skf=StratifiedKFold(n_splits=5,shuffle=False, random_state=None)\n",
        "CV_random_forest = GridSearchCV(estimator=random_forest_clf, param_grid=param_grid, cv= skf, scoring = 'roc_auc')\n",
        "CV_random_forest.fit(X_train, y_train)\n"
      ]
    },
    {
      "cell_type": "code",
      "execution_count": 42,
      "metadata": {
        "colab": {
          "base_uri": "https://localhost:8080/"
        },
        "id": "hxqJk382v_kp",
        "outputId": "67f81d80-1542-4184-efb0-4154676cd02b"
      },
      "outputs": [
        {
          "output_type": "stream",
          "name": "stdout",
          "text": [
            "tuned hyperparameters:(best parameters  {'criterion': 'entropy', 'max_depth': 12, 'max_features': 'auto', 'n_estimators': 100}\n",
            "accuracy  0.9145327344525102\n"
          ]
        }
      ],
      "source": [
        "print(\"tuned hyperparameters:(best parameters \",CV_random_forest.best_params_)\n",
        "print(\"accuracy \",CV_random_forest.best_score_)\n"
      ]
    },
    {
      "cell_type": "code",
      "execution_count": 43,
      "metadata": {
        "id": "jzmNakT2P2fD"
      },
      "outputs": [],
      "source": [
        "random_clf=RandomForestClassifier(criterion='entropy',max_depth=12,max_features='auto',n_estimators=100,)"
      ]
    },
    {
      "cell_type": "code",
      "execution_count": 44,
      "metadata": {
        "colab": {
          "base_uri": "https://localhost:8080/"
        },
        "id": "uLY8aldxE52n",
        "outputId": "231939b5-14c9-49d3-fe69-92a54d04fbec"
      },
      "outputs": [
        {
          "output_type": "execute_result",
          "data": {
            "text/plain": [
              "0.8474171394446103"
            ]
          },
          "metadata": {},
          "execution_count": 44
        }
      ],
      "source": [
        "random_clf.fit(X_train,y_train)\n",
        "random_clf.predict(X_test)\n",
        "random_clf.score(X_test,y_test)"
      ]
    },
    {
      "cell_type": "code",
      "execution_count": 45,
      "metadata": {
        "colab": {
          "base_uri": "https://localhost:8080/",
          "height": 282
        },
        "id": "Iqj4qoM9FcqO",
        "outputId": "7ccace80-ccea-4b23-f518-ca732edd23b7"
      },
      "outputs": [
        {
          "output_type": "execute_result",
          "data": {
            "text/plain": [
              "<matplotlib.axes._subplots.AxesSubplot at 0x7f6ee7a33990>"
            ]
          },
          "metadata": {},
          "execution_count": 45
        },
        {
          "output_type": "display_data",
          "data": {
            "image/png": "[encoded data removed]",
            "text/plain": [
              "<Figure size 432x288 with 2 Axes>"
            ]
          },
          "metadata": {
            "needs_background": "light"
          }
        }
      ],
      "source": [
        "confusion=confusion_matrix(y_test, random_clf.predict(X_test))\n",
        "sns.heatmap(confusion,annot=True)\n"
      ]
    },
    {
      "cell_type": "code",
      "execution_count": 46,
      "metadata": {
        "colab": {
          "base_uri": "https://localhost:8080/"
        },
        "id": "x8WUdM_JOvdC",
        "outputId": "3ca5fbc6-366c-4988-e8ed-4bb976eee695"
      },
      "outputs": [
        {
          "output_type": "execute_result",
          "data": {
            "text/plain": [
              "0.8606294155427103"
            ]
          },
          "metadata": {},
          "execution_count": 46
        }
      ],
      "source": [
        "rec=recall_score(y_test,random_clf.predict(X_test))\n",
        "rec"
      ]
    },
    {
      "cell_type": "markdown",
      "metadata": {
        "id": "88sHtRaEo7qg"
      },
      "source": [
        "## **SVM**"
      ]
    },
    {
      "cell_type": "code",
      "execution_count": null,
      "metadata": {
        "colab": {
          "base_uri": "https://localhost:8080/"
        },
        "id": "ZaOZjS4WK2JE",
        "outputId": "e97619a8-9f5f-40c9-d592-f637604c9a3b"
      },
      "outputs": [
        {
          "output_type": "stream",
          "name": "stdout",
          "text": [
            "Fitting 10 folds for each of 75 candidates, totalling 750 fits\n",
            "[CV] END .........................C=0.1, gamma=1, kernel=rbf; total time=   3.0s\n",
            "[CV] END .........................C=0.1, gamma=1, kernel=rbf; total time=   2.8s\n",
            "[CV] END .........................C=0.1, gamma=1, kernel=rbf; total time=   2.9s\n",
            "[CV] END .........................C=0.1, gamma=1, kernel=rbf; total time=   2.9s\n",
            "[CV] END .........................C=0.1, gamma=1, kernel=rbf; total time=   2.9s\n",
            "[CV] END .........................C=0.1, gamma=1, kernel=rbf; total time=   2.9s\n",
            "[CV] END .........................C=0.1, gamma=1, kernel=rbf; total time=   2.9s\n",
            "[CV] END .........................C=0.1, gamma=1, kernel=rbf; total time=   2.9s\n",
            "[CV] END .........................C=0.1, gamma=1, kernel=rbf; total time=   2.8s\n",
            "[CV] END .........................C=0.1, gamma=1, kernel=rbf; total time=   2.9s\n"
          ]
        }
      ],
      "source": [
        "param_grid = {'C': [0.1, 1, 10, 100, 1000],\n",
        "              'gamma': [1, 0.1, 0.01, 0.001, 0.0001],\n",
        "              'kernel': ['rbf','poly','sigmoid']} \n",
        "grid = GridSearchCV(SVC(), param_grid, refit = True, verbose = 2,cv=10)\n",
        "grid.fit(X_train, y_train)\n",
        "print(grid.best_estimator_)"
      ]
    },
    {
      "cell_type": "code",
      "execution_count": 8,
      "metadata": {
        "id": "Em2nVbJDh0D0"
      },
      "outputs": [],
      "source": [
        "svm_clf=SVC(C=10,gamma=0.1,kernel='rbf')"
      ]
    },
    {
      "cell_type": "code",
      "execution_count": 9,
      "metadata": {
        "id": "rwVvUiASffFA",
        "colab": {
          "base_uri": "https://localhost:8080/"
        },
        "outputId": "9d1eecb9-55f3-43e7-876f-bb16613f2367"
      },
      "outputs": [
        {
          "output_type": "execute_result",
          "data": {
            "text/plain": [
              "0.5347865034338608"
            ]
          },
          "metadata": {},
          "execution_count": 9
        }
      ],
      "source": [
        "svm_clf.fit(X_train,y_train)\n",
        "svm_clf.predict(X_test)\n",
        "svm_clf.score(X_test,y_test)"
      ]
    },
    {
      "cell_type": "code",
      "execution_count": 10,
      "metadata": {
        "id": "5LfNbUaUfei3",
        "colab": {
          "base_uri": "https://localhost:8080/",
          "height": 282
        },
        "outputId": "b862d81e-9646-4e35-c199-679dfbc141ec"
      },
      "outputs": [
        {
          "output_type": "execute_result",
          "data": {
            "text/plain": [
              "<matplotlib.axes._subplots.AxesSubplot at 0x7f7b073fee10>"
            ]
          },
          "metadata": {},
          "execution_count": 10
        },
        {
          "output_type": "display_data",
          "data": {
            "image/png": "[encoded data removed]",
            "text/plain": [
              "<Figure size 432x288 with 2 Axes>"
            ]
          },
          "metadata": {
            "needs_background": "light"
          }
        }
      ],
      "source": [
        "confusion=confusion_matrix(y_test, svm_clf.predict(X_test))\n",
        "sns.heatmap(confusion,annot=True)"
      ]
    },
    {
      "cell_type": "code",
      "execution_count": 11,
      "metadata": {
        "id": "j_iZXw28gBIf",
        "colab": {
          "base_uri": "https://localhost:8080/"
        },
        "outputId": "6609b461-d90d-4729-a5bd-217ed3eb54d4"
      },
      "outputs": [
        {
          "output_type": "execute_result",
          "data": {
            "text/plain": [
              "0.0006422607578676942"
            ]
          },
          "metadata": {},
          "execution_count": 11
        }
      ],
      "source": [
        "rec=recall_score(y_test,svm_clf.predict(X_test))\n",
        "rec"
      ]
    }
  ],
  "metadata": {
    "colab": {
      "collapsed_sections": [],
      "name": "Projet_DM.ipynb",
      "provenance": []
    },
    "kernelspec": {
      "display_name": "Python 3",
      "name": "python3"
    },
    "language_info": {
      "name": "python"
    }
  },
  "nbformat": 4,
  "nbformat_minor": 0
}