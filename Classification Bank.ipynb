{
  "cells": [
    {
      "cell_type": "code",
      "execution_count": 16,
      "metadata": {
        "id": "zBFh532nGmTc"
      },
      "outputs": [],
      "source": [
        "import pandas as pd\n",
        "import matplotlib.pyplot as plt\n",
        "import numpy as np\n",
        "import seaborn as sns\n",
        "from sklearn.feature_selection import RFE \n",
        "from sklearn.metrics import roc_auc_score\n",
        "from sklearn.linear_model import LogisticRegression \n",
        "from sklearn.model_selection import train_test_split \n",
        "from sklearn.feature_selection import SelectKBest \n",
        "from sklearn.feature_selection import mutual_info_classif \n",
        "from sklearn.model_selection import StratifiedKFold \n",
        "from sklearn.model_selection import cross_validate \n",
        "from sklearn.model_selection import GridSearchCV \n",
        "from sklearn.preprocessing import LabelEncoder \n",
        "from sklearn.linear_model import LogisticRegression \n",
        "from sklearn.neighbors import KNeighborsClassifier \n",
        "from sklearn.tree import DecisionTreeClassifier \n",
        "from sklearn.tree import export_graphviz \n",
        "from sklearn.tree import plot_tree\n",
        "import matplotlib.pyplot as plt\n",
        "from sklearn.ensemble import RandomForestClassifier \n",
        "from sklearn.svm import SVC \n",
        "from sklearn import svm \n",
        "from sklearn.metrics import confusion_matrix \n",
        "from sklearn.metrics import recall_score \n",
        "from sklearn.model_selection import KFold \n",
        "from sklearn.metrics import roc_curve, auc\n",
        "from sklearn import metrics"
      ]
    },
    {
      "cell_type": "code",
      "execution_count": 3,
      "metadata": {
        "id": "M9I86bTEGAQL",
        "colab": {
          "base_uri": "https://localhost:8080/",
          "height": 206
        },
        "outputId": "16e3789f-c3d4-4a35-fe31-e1c8dc1d704e"
      },
      "outputs": [
        {
          "output_type": "execute_result",
          "data": {
            "text/html": [
              "<div>\n",
              "<style scoped>\n",
              "    .dataframe tbody tr th:only-of-type {\n",
              "        vertical-align: middle;\n",
              "    }\n",
              "\n",
              "    .dataframe tbody tr th {\n",
              "        vertical-align: top;\n",
              "    }\n",
              "\n",
              "    .dataframe thead th {\n",
              "        text-align: right;\n",
              "    }\n",
              "</style>\n",
              "<table border=\"1\" class=\"dataframe\">\n",
              "  <thead>\n",
              "    <tr style=\"text-align: right;\">\n",
              "      <th></th>\n",
              "      <th>age</th>\n",
              "      <th>job</th>\n",
              "      <th>marital</th>\n",
              "      <th>education</th>\n",
              "      <th>default</th>\n",
              "      <th>balance</th>\n",
              "      <th>housing</th>\n",
              "      <th>loan</th>\n",
              "      <th>contact</th>\n",
              "      <th>day</th>\n",
              "      <th>month</th>\n",
              "      <th>duration</th>\n",
              "      <th>campaign</th>\n",
              "      <th>pdays</th>\n",
              "      <th>previous</th>\n",
              "      <th>poutcome</th>\n",
              "      <th>deposit</th>\n",
              "    </tr>\n",
              "  </thead>\n",
              "  <tbody>\n",
              "    <tr>\n",
              "      <th>0</th>\n",
              "      <td>59</td>\n",
              "      <td>admin.</td>\n",
              "      <td>married</td>\n",
              "      <td>secondary</td>\n",
              "      <td>no</td>\n",
              "      <td>2343</td>\n",
              "      <td>yes</td>\n",
              "      <td>no</td>\n",
              "      <td>unknown</td>\n",
              "      <td>5</td>\n",
              "      <td>may</td>\n",
              "      <td>1042</td>\n",
              "      <td>1</td>\n",
              "      <td>-1</td>\n",
              "      <td>0</td>\n",
              "      <td>unknown</td>\n",
              "      <td>yes</td>\n",
              "    </tr>\n",
              "    <tr>\n",
              "      <th>1</th>\n",
              "      <td>56</td>\n",
              "      <td>admin.</td>\n",
              "      <td>married</td>\n",
              "      <td>secondary</td>\n",
              "      <td>no</td>\n",
              "      <td>45</td>\n",
              "      <td>no</td>\n",
              "      <td>no</td>\n",
              "      <td>unknown</td>\n",
              "      <td>5</td>\n",
              "      <td>may</td>\n",
              "      <td>1467</td>\n",
              "      <td>1</td>\n",
              "      <td>-1</td>\n",
              "      <td>0</td>\n",
              "      <td>unknown</td>\n",
              "      <td>yes</td>\n",
              "    </tr>\n",
              "    <tr>\n",
              "      <th>2</th>\n",
              "      <td>41</td>\n",
              "      <td>technician</td>\n",
              "      <td>married</td>\n",
              "      <td>secondary</td>\n",
              "      <td>no</td>\n",
              "      <td>1270</td>\n",
              "      <td>yes</td>\n",
              "      <td>no</td>\n",
              "      <td>unknown</td>\n",
              "      <td>5</td>\n",
              "      <td>may</td>\n",
              "      <td>1389</td>\n",
              "      <td>1</td>\n",
              "      <td>-1</td>\n",
              "      <td>0</td>\n",
              "      <td>unknown</td>\n",
              "      <td>yes</td>\n",
              "    </tr>\n",
              "    <tr>\n",
              "      <th>3</th>\n",
              "      <td>55</td>\n",
              "      <td>services</td>\n",
              "      <td>married</td>\n",
              "      <td>secondary</td>\n",
              "      <td>no</td>\n",
              "      <td>2476</td>\n",
              "      <td>yes</td>\n",
              "      <td>no</td>\n",
              "      <td>unknown</td>\n",
              "      <td>5</td>\n",
              "      <td>may</td>\n",
              "      <td>579</td>\n",
              "      <td>1</td>\n",
              "      <td>-1</td>\n",
              "      <td>0</td>\n",
              "      <td>unknown</td>\n",
              "      <td>yes</td>\n",
              "    </tr>\n",
              "    <tr>\n",
              "      <th>4</th>\n",
              "      <td>54</td>\n",
              "      <td>admin.</td>\n",
              "      <td>married</td>\n",
              "      <td>tertiary</td>\n",
              "      <td>no</td>\n",
              "      <td>184</td>\n",
              "      <td>no</td>\n",
              "      <td>no</td>\n",
              "      <td>unknown</td>\n",
              "      <td>5</td>\n",
              "      <td>may</td>\n",
              "      <td>673</td>\n",
              "      <td>2</td>\n",
              "      <td>-1</td>\n",
              "      <td>0</td>\n",
              "      <td>unknown</td>\n",
              "      <td>yes</td>\n",
              "    </tr>\n",
              "  </tbody>\n",
              "</table>\n",
              "</div>"
            ],
            "text/plain": [
              "   age         job  marital  education  ... pdays  previous poutcome deposit\n",
              "0   59      admin.  married  secondary  ...    -1         0  unknown     yes\n",
              "1   56      admin.  married  secondary  ...    -1         0  unknown     yes\n",
              "2   41  technician  married  secondary  ...    -1         0  unknown     yes\n",
              "3   55    services  married  secondary  ...    -1         0  unknown     yes\n",
              "4   54      admin.  married   tertiary  ...    -1         0  unknown     yes\n",
              "\n",
              "[5 rows x 17 columns]"
            ]
          },
          "metadata": {},
          "execution_count": 3
        }
      ],
      "source": [
        "data=pd.read_csv('/bank.csv')\n",
        "data.head()"
      ]
    },
    {
      "cell_type": "markdown",
      "metadata": {
        "id": "lvk7NVH1xfa1"
      },
      "source": [
        "## **Label Enocder**"
      ]
    },
    {
      "cell_type": "code",
      "execution_count": 4,
      "metadata": {
        "id": "Lf0z-jU_7yQW"
      },
      "outputs": [],
      "source": [
        "class MultiColumnLabelEncoder:\n",
        "    def __init__(self,columns = None):\n",
        "        self.columns = columns # array of column names to encode\n",
        "\n",
        "    def fit(self,X,y=None):\n",
        "        return self # not relevant here\n",
        "\n",
        "    def transform(self,X):\n",
        "        '''\n",
        "        Transforms columns of X specified in self.columns using\n",
        "        LabelEncoder(). If no columns specified, transforms all\n",
        "        columns in X.\n",
        "        '''\n",
        "        output = X.copy()\n",
        "        if self.columns is not None:\n",
        "            for col in self.columns:\n",
        "                output[col] = LabelEncoder().fit_transform(output[col])\n",
        "        else:\n",
        "            for colname,col in output.iteritems():\n",
        "                output[colname] = LabelEncoder().fit_transform(col)\n",
        "        return output\n",
        "\n",
        "    def fit_transform(self,X,y=None):\n",
        "        return self.fit(X,y).transform(X)\n"
      ]
    },
    {
      "cell_type": "code",
      "execution_count": 5,
      "metadata": {
        "id": "kkMNPZJ27zWv",
        "colab": {
          "base_uri": "https://localhost:8080/",
          "height": 206
        },
        "outputId": "cc8b5525-1b24-4e10-bd38-eb0518aadf07"
      },
      "outputs": [
        {
          "output_type": "execute_result",
          "data": {
            "text/html": [
              "<div>\n",
              "<style scoped>\n",
              "    .dataframe tbody tr th:only-of-type {\n",
              "        vertical-align: middle;\n",
              "    }\n",
              "\n",
              "    .dataframe tbody tr th {\n",
              "        vertical-align: top;\n",
              "    }\n",
              "\n",
              "    .dataframe thead th {\n",
              "        text-align: right;\n",
              "    }\n",
              "</style>\n",
              "<table border=\"1\" class=\"dataframe\">\n",
              "  <thead>\n",
              "    <tr style=\"text-align: right;\">\n",
              "      <th></th>\n",
              "      <th>age</th>\n",
              "      <th>job</th>\n",
              "      <th>marital</th>\n",
              "      <th>education</th>\n",
              "      <th>default</th>\n",
              "      <th>balance</th>\n",
              "      <th>housing</th>\n",
              "      <th>loan</th>\n",
              "      <th>contact</th>\n",
              "      <th>day</th>\n",
              "      <th>month</th>\n",
              "      <th>duration</th>\n",
              "      <th>campaign</th>\n",
              "      <th>pdays</th>\n",
              "      <th>previous</th>\n",
              "      <th>poutcome</th>\n",
              "      <th>deposit</th>\n",
              "    </tr>\n",
              "  </thead>\n",
              "  <tbody>\n",
              "    <tr>\n",
              "      <th>0</th>\n",
              "      <td>59</td>\n",
              "      <td>0</td>\n",
              "      <td>1</td>\n",
              "      <td>1</td>\n",
              "      <td>0</td>\n",
              "      <td>2343</td>\n",
              "      <td>1</td>\n",
              "      <td>0</td>\n",
              "      <td>2</td>\n",
              "      <td>5</td>\n",
              "      <td>8</td>\n",
              "      <td>1042</td>\n",
              "      <td>1</td>\n",
              "      <td>-1</td>\n",
              "      <td>0</td>\n",
              "      <td>3</td>\n",
              "      <td>1</td>\n",
              "    </tr>\n",
              "    <tr>\n",
              "      <th>1</th>\n",
              "      <td>56</td>\n",
              "      <td>0</td>\n",
              "      <td>1</td>\n",
              "      <td>1</td>\n",
              "      <td>0</td>\n",
              "      <td>45</td>\n",
              "      <td>0</td>\n",
              "      <td>0</td>\n",
              "      <td>2</td>\n",
              "      <td>5</td>\n",
              "      <td>8</td>\n",
              "      <td>1467</td>\n",
              "      <td>1</td>\n",
              "      <td>-1</td>\n",
              "      <td>0</td>\n",
              "      <td>3</td>\n",
              "      <td>1</td>\n",
              "    </tr>\n",
              "    <tr>\n",
              "      <th>2</th>\n",
              "      <td>41</td>\n",
              "      <td>9</td>\n",
              "      <td>1</td>\n",
              "      <td>1</td>\n",
              "      <td>0</td>\n",
              "      <td>1270</td>\n",
              "      <td>1</td>\n",
              "      <td>0</td>\n",
              "      <td>2</td>\n",
              "      <td>5</td>\n",
              "      <td>8</td>\n",
              "      <td>1389</td>\n",
              "      <td>1</td>\n",
              "      <td>-1</td>\n",
              "      <td>0</td>\n",
              "      <td>3</td>\n",
              "      <td>1</td>\n",
              "    </tr>\n",
              "    <tr>\n",
              "      <th>3</th>\n",
              "      <td>55</td>\n",
              "      <td>7</td>\n",
              "      <td>1</td>\n",
              "      <td>1</td>\n",
              "      <td>0</td>\n",
              "      <td>2476</td>\n",
              "      <td>1</td>\n",
              "      <td>0</td>\n",
              "      <td>2</td>\n",
              "      <td>5</td>\n",
              "      <td>8</td>\n",
              "      <td>579</td>\n",
              "      <td>1</td>\n",
              "      <td>-1</td>\n",
              "      <td>0</td>\n",
              "      <td>3</td>\n",
              "      <td>1</td>\n",
              "    </tr>\n",
              "    <tr>\n",
              "      <th>4</th>\n",
              "      <td>54</td>\n",
              "      <td>0</td>\n",
              "      <td>1</td>\n",
              "      <td>2</td>\n",
              "      <td>0</td>\n",
              "      <td>184</td>\n",
              "      <td>0</td>\n",
              "      <td>0</td>\n",
              "      <td>2</td>\n",
              "      <td>5</td>\n",
              "      <td>8</td>\n",
              "      <td>673</td>\n",
              "      <td>2</td>\n",
              "      <td>-1</td>\n",
              "      <td>0</td>\n",
              "      <td>3</td>\n",
              "      <td>1</td>\n",
              "    </tr>\n",
              "  </tbody>\n",
              "</table>\n",
              "</div>"
            ],
            "text/plain": [
              "   age  job  marital  education  ...  pdays  previous  poutcome  deposit\n",
              "0   59    0        1          1  ...     -1         0         3        1\n",
              "1   56    0        1          1  ...     -1         0         3        1\n",
              "2   41    9        1          1  ...     -1         0         3        1\n",
              "3   55    7        1          1  ...     -1         0         3        1\n",
              "4   54    0        1          2  ...     -1         0         3        1\n",
              "\n",
              "[5 rows x 17 columns]"
            ]
          },
          "metadata": {},
          "execution_count": 5
        }
      ],
      "source": [
        "data = MultiColumnLabelEncoder(columns = ['job','marital','education', 'default','housing','loan','contact','month','poutcome','deposit']).fit_transform(data)\n",
        "data.head()"
      ]
    },
    {
      "cell_type": "markdown",
      "metadata": {
        "id": "0e1lVEkDxlLa"
      },
      "source": [
        "## **Checking if data is balanced**"
      ]
    },
    {
      "cell_type": "code",
      "execution_count": 6,
      "metadata": {
        "colab": {
          "base_uri": "https://localhost:8080/"
        },
        "id": "ACgl1HWws7sm",
        "outputId": "34d0eb6c-98df-4cd4-c97c-2c95d14e1932"
      },
      "outputs": [
        {
          "output_type": "stream",
          "name": "stdout",
          "text": [
            "Class 0: 5873\n",
            "Class 1: 5289\n",
            "Proportion: 1.11 : 1\n"
          ]
        }
      ],
      "source": [
        "target_count = data.deposit.value_counts()\n",
        "print('Class 0:', target_count[0])\n",
        "print('Class 1:', target_count[1])\n",
        "print('Proportion:', round(target_count[0] / target_count[1], 2), ': 1')"
      ]
    },
    {
      "cell_type": "markdown",
      "metadata": {
        "id": "h4o7HqwmvXNW"
      },
      "source": [
        "Our data is balanced ; prportion close to 1 "
      ]
    },
    {
      "cell_type": "code",
      "execution_count": 7,
      "metadata": {
        "colab": {
          "base_uri": "https://localhost:8080/",
          "height": 295
        },
        "id": "W4mtuUndKJ8E",
        "outputId": "a630e5f9-e291-43bb-b244-bd0b13cf03df"
      },
      "outputs": [
        {
          "output_type": "execute_result",
          "data": {
            "text/plain": [
              "<matplotlib.axes._subplots.AxesSubplot at 0x7f531f2bcf50>"
            ]
          },
          "metadata": {},
          "execution_count": 7
        },
        {
          "output_type": "display_data",
          "data": {
            "image/png": "[encoded data removed]",
            "text/plain": [
              "<Figure size 432x288 with 1 Axes>"
            ]
          },
          "metadata": {
            "needs_background": "light"
          }
        }
      ],
      "source": [
        "target_count.plot(kind='bar', title='Count (target)')"
      ]
    },
    {
      "cell_type": "markdown",
      "metadata": {
        "id": "t3qRycUnx1ti"
      },
      "source": [
        "## **Splitting data into Train Test** "
      ]
    },
    {
      "cell_type": "code",
      "execution_count": 8,
      "metadata": {
        "id": "I-eUUPJRtf97"
      },
      "outputs": [],
      "source": [
        "# features\n",
        "X = data.drop('deposit', axis=1)\n",
        "# target\n",
        "y=data['deposit']\n",
        "X_train, X_test, y_train, y_test = train_test_split(X, y, test_size=0.3, random_state=0)"
      ]
    },
    {
      "cell_type": "code",
      "execution_count": 9,
      "metadata": {
        "colab": {
          "base_uri": "https://localhost:8080/"
        },
        "id": "avU88uXbLJLy",
        "outputId": "420b65ed-c1a8-4795-88d1-1b28a99dc960"
      },
      "outputs": [
        {
          "output_type": "stream",
          "name": "stdout",
          "text": [
            "len(X_train)= 7813\n",
            "len(y_train)= 7813\n",
            "(7813, 16)\n",
            "(7813,)\n",
            "(3349, 16)\n",
            "(3349,)\n"
          ]
        }
      ],
      "source": [
        "columns = X_train.columns\n",
        "print(\"len(X_train)=\",len(X_train))\n",
        "print(\"len(y_train)=\",len(y_train))\n",
        "\n",
        "#X_train.info()\n",
        "print(np.shape(X_train))\n",
        "print(np.shape(y_train))\n",
        "print(np.shape(X_test))\n",
        "print(np.shape(y_test))\n"
      ]
    },
    {
      "cell_type": "markdown",
      "metadata": {
        "id": "RDoetX3sxQbP"
      },
      "source": [
        "## **Logistic Regression**"
      ]
    },
    {
      "cell_type": "code",
      "execution_count": 10,
      "metadata": {
        "colab": {
          "base_uri": "https://localhost:8080/"
        },
        "id": "CG4nHsyOJVp2",
        "outputId": "f86f947f-6f6a-4315-eac3-852c906b9b17"
      },
      "outputs": [
        {
          "output_type": "stream",
          "name": "stdout",
          "text": [
            "tuned hyperparameters:(best parameters  {'C': 100.0, 'penalty': 'l2', 'solver': 'liblinear'}\n",
            "accuracy  0.7999498970105217\n"
          ]
        }
      ],
      "source": [
        "logreg=LogisticRegression()\n",
        "grid={\"C\":np.logspace(-3,3,7), \"penalty\":[\"l1\",\"l2\"],\"solver\": ['liblinear']}\n",
        "logreg_cv=GridSearchCV(logreg,grid,cv=10)\n",
        "logreg_cv.fit(X_train,y_train)\n",
        "print(\"tuned hyperparameters:(best parameters \",logreg_cv.best_params_)\n",
        "print(\"accuracy \",logreg_cv.best_score_)"
      ]
    },
    {
      "cell_type": "code",
      "execution_count": 11,
      "metadata": {
        "id": "Bh0RDCgLKoh0"
      },
      "outputs": [],
      "source": [
        "logreg=LogisticRegression(C=100.0,penalty=\"l2\",solver=\"liblinear\",random_state=0)"
      ]
    },
    {
      "cell_type": "code",
      "source": [
        "rfe = RFE(estimator=logreg) #, n_features_to_select=10)\n",
        "rfe.fit(X_train,y_train)\n",
        "for i in range(X.shape[1]):\n",
        "\tprint('Column: %d, Selected %s, Rank: %.3f' % (i, rfe.support_[i], rfe.ranking_[i]))\n"
      ],
      "metadata": {
        "colab": {
          "base_uri": "https://localhost:8080/"
        },
        "id": "WezGwJnTytJx",
        "outputId": "0f0a2800-e165-4252-deac-c80683fe4170"
      },
      "execution_count": 23,
      "outputs": [
        {
          "output_type": "stream",
          "name": "stdout",
          "text": [
            "Column: 0, Selected False, Rank: 4.000\n",
            "Column: 1, Selected False, Rank: 3.000\n",
            "Column: 2, Selected True, Rank: 1.000\n",
            "Column: 3, Selected True, Rank: 1.000\n",
            "Column: 4, Selected True, Rank: 1.000\n",
            "Column: 5, Selected False, Rank: 9.000\n",
            "Column: 6, Selected True, Rank: 1.000\n",
            "Column: 7, Selected True, Rank: 1.000\n",
            "Column: 8, Selected True, Rank: 1.000\n",
            "Column: 9, Selected False, Rank: 5.000\n",
            "Column: 10, Selected False, Rank: 2.000\n",
            "Column: 11, Selected False, Rank: 7.000\n",
            "Column: 12, Selected True, Rank: 1.000\n",
            "Column: 13, Selected False, Rank: 8.000\n",
            "Column: 14, Selected True, Rank: 1.000\n",
            "Column: 15, Selected False, Rank: 6.000\n"
          ]
        }
      ]
    },
    {
      "cell_type": "code",
      "source": [
        "rfe.predict(X_test)\n",
        "rfe.score(X_test,y_test)"
      ],
      "metadata": {
        "colab": {
          "base_uri": "https://localhost:8080/"
        },
        "id": "SZxxp1qZ3fpv",
        "outputId": "56a02fcd-d843-4d75-d1b2-5007151c4651"
      },
      "execution_count": 27,
      "outputs": [
        {
          "output_type": "execute_result",
          "data": {
            "text/plain": [
              "0.6422812779934308"
            ]
          },
          "metadata": {},
          "execution_count": 27
        }
      ]
    },
    {
      "cell_type": "code",
      "execution_count": 25,
      "metadata": {
        "colab": {
          "base_uri": "https://localhost:8080/"
        },
        "id": "bfz24eNWv_xQ",
        "outputId": "1203c5d8-751e-47ba-887d-fe1ee7795a7e"
      },
      "outputs": [
        {
          "output_type": "execute_result",
          "data": {
            "text/plain": [
              "LogisticRegression(C=100.0, random_state=0, solver='liblinear')"
            ]
          },
          "metadata": {},
          "execution_count": 25
        }
      ],
      "source": [
        "logreg.fit(X_train,y_train)"
      ]
    },
    {
      "cell_type": "code",
      "execution_count": 28,
      "metadata": {
        "colab": {
          "base_uri": "https://localhost:8080/"
        },
        "id": "9hg9gqEFv_u3",
        "outputId": "e448921b-4620-4836-92cb-5f73d4a84591"
      },
      "outputs": [
        {
          "output_type": "execute_result",
          "data": {
            "text/plain": [
              "0.7945655419528217"
            ]
          },
          "metadata": {},
          "execution_count": 28
        }
      ],
      "source": [
        "logreg.predict(X_test)\n",
        "logreg.score(X_test,y_test)"
      ]
    },
    {
      "cell_type": "code",
      "execution_count": 29,
      "metadata": {
        "colab": {
          "base_uri": "https://localhost:8080/",
          "height": 282
        },
        "id": "42up-B81v_rO",
        "outputId": "b8ecc325-d8f7-4a40-da5d-7f0696e03f71"
      },
      "outputs": [
        {
          "output_type": "execute_result",
          "data": {
            "text/plain": [
              "<matplotlib.axes._subplots.AxesSubplot at 0x7f531f2f2090>"
            ]
          },
          "metadata": {},
          "execution_count": 29
        },
        {
          "output_type": "display_data",
          "data": {
            "image/png": "[encoded data removed]",
            "text/plain": [
              "<Figure size 432x288 with 2 Axes>"
            ]
          },
          "metadata": {
            "needs_background": "light"
          }
        }
      ],
      "source": [
        "confusion=confusion_matrix(y_test, logreg.predict(X_test))\n",
        "sns.heatmap(confusion,annot=True)"
      ]
    },
    {
      "cell_type": "code",
      "execution_count": 30,
      "metadata": {
        "id": "WLomc6t4SihE"
      },
      "outputs": [],
      "source": [
        "logreg1=LogisticRegression(C=10.0,penalty=\"l1\",solver=\"liblinear\",random_state=0)"
      ]
    },
    {
      "cell_type": "code",
      "execution_count": 31,
      "metadata": {
        "colab": {
          "base_uri": "https://localhost:8080/"
        },
        "id": "WsYUm_7zSqOJ",
        "outputId": "1e55b69b-2db8-4325-d6d9-31b1a08cd0a0"
      },
      "outputs": [
        {
          "output_type": "execute_result",
          "data": {
            "text/plain": [
              "0.7954613317408181"
            ]
          },
          "metadata": {},
          "execution_count": 31
        }
      ],
      "source": [
        "logreg1.fit(X_train,y_train)\n",
        "logreg1.predict(X_test)\n",
        "logreg1.score(X_test,y_test)"
      ]
    },
    {
      "cell_type": "code",
      "execution_count": null,
      "metadata": {
        "colab": {
          "base_uri": "https://localhost:8080/",
          "height": 282
        },
        "id": "uQnE7JgkS_Ff",
        "outputId": "ad964e23-1a71-4934-d492-8a6f33b54a91"
      },
      "outputs": [
        {
          "output_type": "execute_result",
          "data": {
            "text/plain": [
              "<matplotlib.axes._subplots.AxesSubplot at 0x7f6ee9cbc410>"
            ]
          },
          "metadata": {},
          "execution_count": 26
        },
        {
          "output_type": "display_data",
          "data": {
            "image/png": "[encoded data removed]",
            "text/plain": [
              "<Figure size 432x288 with 2 Axes>"
            ]
          },
          "metadata": {
            "needs_background": "light"
          }
        }
      ],
      "source": [
        "confusion=confusion_matrix(y_test, logreg1.predict(X_test))\n",
        "sns.heatmap(confusion,annot=True)"
      ]
    },
    {
      "cell_type": "code",
      "execution_count": 32,
      "metadata": {
        "colab": {
          "base_uri": "https://localhost:8080/"
        },
        "id": "d9hUAHZySUaN",
        "outputId": "8db0cdf9-8c7e-4229-eb27-b4e157b5e1a6"
      },
      "outputs": [
        {
          "output_type": "execute_result",
          "data": {
            "text/plain": [
              "0.7675016056518946"
            ]
          },
          "metadata": {},
          "execution_count": 32
        }
      ],
      "source": [
        "rec=recall_score(y_test,logreg.predict(X_test))\n",
        "rec"
      ]
    },
    {
      "cell_type": "code",
      "execution_count": 33,
      "metadata": {
        "colab": {
          "base_uri": "https://localhost:8080/"
        },
        "id": "8QbXU0LOSeo2",
        "outputId": "f49b3570-eb60-4d9f-cd3b-706ff5e68a3d"
      },
      "outputs": [
        {
          "output_type": "execute_result",
          "data": {
            "text/plain": [
              "0.7687861271676301"
            ]
          },
          "metadata": {},
          "execution_count": 33
        }
      ],
      "source": [
        "rec=recall_score(y_test,logreg1.predict(X_test))\n",
        "rec"
      ]
    },
    {
      "cell_type": "code",
      "source": [
        "roc1=logreg.predict(X_test)\n",
        "fpr1, tpr1, threshold1 = metrics.roc_curve(y_test, logreg.predict(X_test))"
      ],
      "metadata": {
        "id": "1XKmvIZ2rz5C"
      },
      "execution_count": 37,
      "outputs": []
    },
    {
      "cell_type": "code",
      "source": [
        " print('roc_auc_score for Logisic regression: ', roc_auc_score(y_test, roc1))"
      ],
      "metadata": {
        "colab": {
          "base_uri": "https://localhost:8080/"
        },
        "id": "-8WBqOIDncT3",
        "outputId": "849ee8f2-64ae-4b4c-e7ea-12552bebe7a9"
      },
      "execution_count": 38,
      "outputs": [
        {
          "output_type": "stream",
          "name": "stdout",
          "text": [
            "roc_auc_score for Logisic regression:  0.7927909813973759\n"
          ]
        }
      ]
    },
    {
      "cell_type": "code",
      "source": [
        "fpr, tpr, threshold = metrics.roc_curve(y_test, logreg.predict(X_test))\n",
        "plt.subplots(1, figsize=(10,10))\n",
        "plt.title('Receiver Operating Characteristic')\n",
        "plt.plot(fpr, tpr)\n",
        "plt.plot([0, 1], ls=\"--\")\n",
        "plt.plot([0, 0], [1, 0] , c=\".7\"), plt.plot([1, 1] , c=\".7\")\n",
        "plt.ylabel('True Positive Rate')\n",
        "plt.xlabel('False Positive Rate')\n",
        "plt.show()"
      ],
      "metadata": {
        "colab": {
          "base_uri": "https://localhost:8080/",
          "height": 621
        },
        "id": "7zkRN8HCo3i3",
        "outputId": "e4260970-5703-479d-f30f-c373307acc4e"
      },
      "execution_count": null,
      "outputs": [
        {
          "output_type": "display_data",
          "data": {
            "image/png": "[encoded data removed]",
            "text/plain": [
              "<Figure size 720x720 with 1 Axes>"
            ]
          },
          "metadata": {
            "needs_background": "light"
          }
        }
      ]
    },
    {
      "cell_type": "markdown",
      "metadata": {
        "id": "8WGAEwuoxHcV"
      },
      "source": [
        "## **Decision Tree**"
      ]
    },
    {
      "cell_type": "code",
      "execution_count": 39,
      "metadata": {
        "colab": {
          "base_uri": "https://localhost:8080/"
        },
        "id": "V3z2orGzzQsz",
        "outputId": "c09d26a4-eb68-4ddf-99de-b2e49b1f2c4c"
      },
      "outputs": [
        {
          "output_type": "stream",
          "name": "stdout",
          "text": [
            "tuned hyperparameters:(best parameters  {'criterion': 'entropy', 'max_depth': 7}\n",
            "accuracy  0.8099339478972363\n"
          ]
        }
      ],
      "source": [
        "grid = {'criterion':['gini','entropy'],'max_depth':[4,5,6,7,8,9,10,11,12]}\n",
        "dec_tree= GridSearchCV(DecisionTreeClassifier(), grid, cv=5)\n",
        "dec_tree.fit(X_train,y_train)\n",
        "print(\"tuned hyperparameters:(best parameters \",dec_tree.best_params_)\n",
        "print(\"accuracy \",dec_tree.best_score_)"
      ]
    },
    {
      "cell_type": "markdown",
      "metadata": {
        "id": "PFlTkyQLMxDU"
      },
      "source": [
        "best parameters = {'criterion'='entropy',  'max_depth'=12,   'max_features'='auto'}"
      ]
    },
    {
      "cell_type": "code",
      "execution_count": 40,
      "metadata": {
        "id": "y12n5ZtY2BRs"
      },
      "outputs": [],
      "source": [
        "dec_tree_clf=DecisionTreeClassifier(criterion='entropy',max_depth=7)"
      ]
    },
    {
      "cell_type": "code",
      "execution_count": 41,
      "metadata": {
        "colab": {
          "base_uri": "https://localhost:8080/"
        },
        "id": "ArGIPSQj2UN2",
        "outputId": "cdf750d0-9bf0-467b-c5f1-d049988db8c5"
      },
      "outputs": [
        {
          "output_type": "execute_result",
          "data": {
            "text/plain": [
              "DecisionTreeClassifier(criterion='entropy', max_depth=7)"
            ]
          },
          "metadata": {},
          "execution_count": 41
        }
      ],
      "source": [
        "dec_tree_clf.fit(X_train,y_train)"
      ]
    },
    {
      "cell_type": "code",
      "execution_count": 42,
      "metadata": {
        "colab": {
          "base_uri": "https://localhost:8080/"
        },
        "id": "9nU2LTkH2bQJ",
        "outputId": "d333883e-f536-4693-9eb2-771292522aa4"
      },
      "outputs": [
        {
          "output_type": "execute_result",
          "data": {
            "text/plain": [
              "0.8083009853687668"
            ]
          },
          "metadata": {},
          "execution_count": 42
        }
      ],
      "source": [
        "dec_tree_clf.predict(X_test)\n",
        "dec_tree_clf.score(X_test,y_test)"
      ]
    },
    {
      "cell_type": "code",
      "execution_count": 43,
      "metadata": {
        "colab": {
          "base_uri": "https://localhost:8080/",
          "height": 282
        },
        "id": "1CBA_EdV2wYV",
        "outputId": "ef7fd0cd-f50f-46ea-c94a-5f3ea8314c2d"
      },
      "outputs": [
        {
          "output_type": "execute_result",
          "data": {
            "text/plain": [
              "<matplotlib.axes._subplots.AxesSubplot at 0x7f53162d7310>"
            ]
          },
          "metadata": {},
          "execution_count": 43
        },
        {
          "output_type": "display_data",
          "data": {
            "image/png": "[encoded data removed]",
            "text/plain": [
              "<Figure size 432x288 with 2 Axes>"
            ]
          },
          "metadata": {
            "needs_background": "light"
          }
        }
      ],
      "source": [
        "confusion=confusion_matrix(y_test, dec_tree_clf.predict(X_test))\n",
        "sns.heatmap(confusion,annot=True)"
      ]
    },
    {
      "cell_type": "code",
      "source": [
        "roc2=dec_tree_clf.predict(X_test)\n",
        "fpr2, tpr2, threshold2 = metrics.roc_curve(y_test, roc2)"
      ],
      "metadata": {
        "id": "zgKWGAOPsFmi"
      },
      "execution_count": 44,
      "outputs": []
    },
    {
      "cell_type": "code",
      "execution_count": 45,
      "metadata": {
        "colab": {
          "base_uri": "https://localhost:8080/"
        },
        "id": "G3yc339n3O1D",
        "outputId": "6a5c5896-f367-46e8-fd3a-f0a562738e6b"
      },
      "outputs": [
        {
          "output_type": "execute_result",
          "data": {
            "text/plain": [
              "0.7763511495968946"
            ]
          },
          "metadata": {},
          "execution_count": 45
        }
      ],
      "source": [
        "dec_tree_clf_2=DecisionTreeClassifier(criterion='gini',max_depth=10,max_features='log2')\n",
        "dec_tree_clf_2.fit(X_train,y_train)\n",
        "dec_tree_clf_2.predict(X_test)\n",
        "dec_tree_clf_2.score(X_test,y_test)"
      ]
    },
    {
      "cell_type": "code",
      "execution_count": 46,
      "metadata": {
        "colab": {
          "base_uri": "https://localhost:8080/",
          "height": 282
        },
        "id": "cPCmamYP7Tan",
        "outputId": "9610f318-fa9e-4b1c-e8ed-87e71dca78fc"
      },
      "outputs": [
        {
          "output_type": "execute_result",
          "data": {
            "text/plain": [
              "<matplotlib.axes._subplots.AxesSubplot at 0x7f53161bfb10>"
            ]
          },
          "metadata": {},
          "execution_count": 46
        },
        {
          "output_type": "display_data",
          "data": {
            "image/png": "[encoded data removed]",
            "text/plain": [
              "<Figure size 432x288 with 2 Axes>"
            ]
          },
          "metadata": {
            "needs_background": "light"
          }
        }
      ],
      "source": [
        "confusion=confusion_matrix(y_test, dec_tree_clf_2.predict(X_test))\n",
        "sns.heatmap(confusion,annot=True)"
      ]
    },
    {
      "cell_type": "code",
      "execution_count": 47,
      "metadata": {
        "colab": {
          "base_uri": "https://localhost:8080/"
        },
        "id": "XcrernwONfPW",
        "outputId": "c31d0ad8-6238-495f-a2ab-14151ca307a5"
      },
      "outputs": [
        {
          "output_type": "execute_result",
          "data": {
            "text/plain": [
              "0.7642903018625562"
            ]
          },
          "metadata": {},
          "execution_count": 47
        }
      ],
      "source": [
        "rec=recall_score(y_test,dec_tree_clf.predict(X_test))\n",
        "rec"
      ]
    },
    {
      "cell_type": "code",
      "execution_count": 48,
      "metadata": {
        "colab": {
          "base_uri": "https://localhost:8080/"
        },
        "id": "yTE-Vy2r9HCl",
        "outputId": "4aef87f7-c391-41fe-f85a-27546f54fcdc"
      },
      "outputs": [
        {
          "output_type": "execute_result",
          "data": {
            "text/plain": [
              "0.7231856133590238"
            ]
          },
          "metadata": {},
          "execution_count": 48
        }
      ],
      "source": [
        "rec=recall_score(y_test,dec_tree_clf_2.predict(X_test))\n",
        "rec"
      ]
    },
    {
      "cell_type": "markdown",
      "metadata": {
        "id": "ceWNTFPCNjrZ"
      },
      "source": [
        "On remarque que le classifier 1 est plus performant que le classifier 2 /  0.78 et 0.739"
      ]
    },
    {
      "cell_type": "markdown",
      "metadata": {
        "id": "fCKxOIOISCNB"
      },
      "source": [
        "## **Random Forest**"
      ]
    },
    {
      "cell_type": "code",
      "execution_count": 49,
      "metadata": {
        "colab": {
          "base_uri": "https://localhost:8080/"
        },
        "id": "TCiDrIodv_oW",
        "outputId": "c69599fe-4205-46eb-ff90-508485945738"
      },
      "outputs": [
        {
          "output_type": "execute_result",
          "data": {
            "text/plain": [
              "GridSearchCV(cv=StratifiedKFold(n_splits=5, random_state=None, shuffle=False),\n",
              "             estimator=RandomForestClassifier(class_weight='balanced',\n",
              "                                              random_state=10),\n",
              "             param_grid={'criterion': ['gini', 'entropy'],\n",
              "                         'max_depth': [4, 5, 6, 7, 8, 9, 10, 11, 12],\n",
              "                         'n_estimators': [50, 100]},\n",
              "             scoring='roc_auc')"
            ]
          },
          "metadata": {},
          "execution_count": 49
        }
      ],
      "source": [
        "random_forest_clf= RandomForestClassifier(random_state=10, class_weight = 'balanced')\n",
        "param_grid = { \n",
        "    'n_estimators': [50, 100],\n",
        "    #'max_features': ['auto', 'sqrt', 'log2'],\n",
        "    'max_depth' : [4,5,6,7,8,9,10,11,12],\n",
        "    'criterion' :['gini', 'entropy']\n",
        "}\n",
        "skf=StratifiedKFold(n_splits=5,shuffle=False, random_state=None)\n",
        "CV_random_forest = GridSearchCV(estimator=random_forest_clf, param_grid=param_grid, cv= skf, scoring = 'roc_auc')\n",
        "CV_random_forest.fit(X_train, y_train)\n"
      ]
    },
    {
      "cell_type": "code",
      "execution_count": 50,
      "metadata": {
        "colab": {
          "base_uri": "https://localhost:8080/"
        },
        "id": "hxqJk382v_kp",
        "outputId": "107c0642-f890-4ce7-e9a5-e1b94fd92390"
      },
      "outputs": [
        {
          "output_type": "stream",
          "name": "stdout",
          "text": [
            "tuned hyperparameters:(best parameters  {'criterion': 'entropy', 'max_depth': 12, 'n_estimators': 100}\n",
            "accuracy  0.9145327344525102\n"
          ]
        }
      ],
      "source": [
        "print(\"tuned hyperparameters:(best parameters \",CV_random_forest.best_params_)\n",
        "print(\"accuracy \",CV_random_forest.best_score_)\n"
      ]
    },
    {
      "cell_type": "code",
      "execution_count": 51,
      "metadata": {
        "id": "jzmNakT2P2fD"
      },
      "outputs": [],
      "source": [
        "random_clf=RandomForestClassifier(criterion='entropy',max_depth=12,n_estimators=100,)"
      ]
    },
    {
      "cell_type": "code",
      "execution_count": 52,
      "metadata": {
        "colab": {
          "base_uri": "https://localhost:8080/"
        },
        "id": "uLY8aldxE52n",
        "outputId": "5ab928f9-4723-49fe-cdae-f30348311150"
      },
      "outputs": [
        {
          "output_type": "execute_result",
          "data": {
            "text/plain": [
              "0.8453269632726187"
            ]
          },
          "metadata": {},
          "execution_count": 52
        }
      ],
      "source": [
        "random_clf.fit(X_train,y_train)\n",
        "random_clf.predict(X_test)\n",
        "random_clf.score(X_test,y_test)"
      ]
    },
    {
      "cell_type": "code",
      "execution_count": 53,
      "metadata": {
        "colab": {
          "base_uri": "https://localhost:8080/",
          "height": 282
        },
        "id": "Iqj4qoM9FcqO",
        "outputId": "03262854-8279-4337-cb79-a2b4f5e7c554"
      },
      "outputs": [
        {
          "output_type": "execute_result",
          "data": {
            "text/plain": [
              "<matplotlib.axes._subplots.AxesSubplot at 0x7f531607d790>"
            ]
          },
          "metadata": {},
          "execution_count": 53
        },
        {
          "output_type": "display_data",
          "data": {
            "image/png": "[encoded data removed]",
            "text/plain": [
              "<Figure size 432x288 with 2 Axes>"
            ]
          },
          "metadata": {
            "needs_background": "light"
          }
        }
      ],
      "source": [
        "confusion=confusion_matrix(y_test, random_clf.predict(X_test))\n",
        "sns.heatmap(confusion,annot=True)\n"
      ]
    },
    {
      "cell_type": "code",
      "execution_count": 54,
      "metadata": {
        "colab": {
          "base_uri": "https://localhost:8080/"
        },
        "id": "x8WUdM_JOvdC",
        "outputId": "d49bfd5f-e63c-4704-94ba-bd625c47570b"
      },
      "outputs": [
        {
          "output_type": "execute_result",
          "data": {
            "text/plain": [
              "0.8625561978163134"
            ]
          },
          "metadata": {},
          "execution_count": 54
        }
      ],
      "source": [
        "rec=recall_score(y_test,random_clf.predict(X_test))\n",
        "rec"
      ]
    },
    {
      "cell_type": "code",
      "source": [
        "roc3=random_clf.predict(X_test)\n",
        "fpr3, tpr3, threshold3 = metrics.roc_curve(y_test, roc3)"
      ],
      "metadata": {
        "id": "XApxxuiisSTX"
      },
      "execution_count": 55,
      "outputs": []
    },
    {
      "cell_type": "markdown",
      "metadata": {
        "id": "88sHtRaEo7qg"
      },
      "source": [
        "## **SVM**"
      ]
    },
    {
      "cell_type": "code",
      "execution_count": 56,
      "metadata": {
        "id": "ZaOZjS4WK2JE",
        "colab": {
          "base_uri": "https://localhost:8080/",
          "height": 1000
        },
        "outputId": "c08b1b38-73bb-4022-b3ff-a22973d860c8"
      },
      "outputs": [
        {
          "output_type": "stream",
          "name": "stdout",
          "text": [
            "Fitting 10 folds for each of 25 candidates, totalling 250 fits\n",
            "[CV] END .........................C=0.1, gamma=1, kernel=rbf; total time=   3.0s\n",
            "[CV] END .........................C=0.1, gamma=1, kernel=rbf; total time=   2.9s\n",
            "[CV] END .........................C=0.1, gamma=1, kernel=rbf; total time=   2.9s\n",
            "[CV] END .........................C=0.1, gamma=1, kernel=rbf; total time=   2.8s\n",
            "[CV] END .........................C=0.1, gamma=1, kernel=rbf; total time=   2.8s\n",
            "[CV] END .........................C=0.1, gamma=1, kernel=rbf; total time=   2.8s\n",
            "[CV] END .........................C=0.1, gamma=1, kernel=rbf; total time=   2.8s\n",
            "[CV] END .........................C=0.1, gamma=1, kernel=rbf; total time=   2.8s\n",
            "[CV] END .........................C=0.1, gamma=1, kernel=rbf; total time=   2.8s\n",
            "[CV] END .........................C=0.1, gamma=1, kernel=rbf; total time=   2.8s\n",
            "[CV] END .......................C=0.1, gamma=0.1, kernel=rbf; total time=   2.9s\n",
            "[CV] END .......................C=0.1, gamma=0.1, kernel=rbf; total time=   2.9s\n",
            "[CV] END .......................C=0.1, gamma=0.1, kernel=rbf; total time=   2.9s\n",
            "[CV] END .......................C=0.1, gamma=0.1, kernel=rbf; total time=   2.9s\n",
            "[CV] END .......................C=0.1, gamma=0.1, kernel=rbf; total time=   2.9s\n",
            "[CV] END .......................C=0.1, gamma=0.1, kernel=rbf; total time=   2.9s\n",
            "[CV] END .......................C=0.1, gamma=0.1, kernel=rbf; total time=   2.9s\n",
            "[CV] END .......................C=0.1, gamma=0.1, kernel=rbf; total time=   2.9s\n",
            "[CV] END .......................C=0.1, gamma=0.1, kernel=rbf; total time=   2.9s\n",
            "[CV] END .......................C=0.1, gamma=0.1, kernel=rbf; total time=   2.9s\n",
            "[CV] END ......................C=0.1, gamma=0.01, kernel=rbf; total time=   2.9s\n",
            "[CV] END ......................C=0.1, gamma=0.01, kernel=rbf; total time=   3.0s\n",
            "[CV] END ......................C=0.1, gamma=0.01, kernel=rbf; total time=   3.0s\n",
            "[CV] END ......................C=0.1, gamma=0.01, kernel=rbf; total time=   3.0s\n",
            "[CV] END ......................C=0.1, gamma=0.01, kernel=rbf; total time=   3.0s\n",
            "[CV] END ......................C=0.1, gamma=0.01, kernel=rbf; total time=   3.0s\n",
            "[CV] END ......................C=0.1, gamma=0.01, kernel=rbf; total time=   2.9s\n",
            "[CV] END ......................C=0.1, gamma=0.01, kernel=rbf; total time=   2.9s\n",
            "[CV] END ......................C=0.1, gamma=0.01, kernel=rbf; total time=   3.0s\n",
            "[CV] END ......................C=0.1, gamma=0.01, kernel=rbf; total time=   3.0s\n",
            "[CV] END .....................C=0.1, gamma=0.001, kernel=rbf; total time=   3.7s\n",
            "[CV] END .....................C=0.1, gamma=0.001, kernel=rbf; total time=   3.7s\n",
            "[CV] END .....................C=0.1, gamma=0.001, kernel=rbf; total time=   3.7s\n",
            "[CV] END .....................C=0.1, gamma=0.001, kernel=rbf; total time=   3.7s\n",
            "[CV] END .....................C=0.1, gamma=0.001, kernel=rbf; total time=   3.7s\n",
            "[CV] END .....................C=0.1, gamma=0.001, kernel=rbf; total time=   3.7s\n",
            "[CV] END .....................C=0.1, gamma=0.001, kernel=rbf; total time=   3.7s\n",
            "[CV] END .....................C=0.1, gamma=0.001, kernel=rbf; total time=   3.7s\n",
            "[CV] END .....................C=0.1, gamma=0.001, kernel=rbf; total time=   3.7s\n",
            "[CV] END .....................C=0.1, gamma=0.001, kernel=rbf; total time=   3.7s\n",
            "[CV] END ....................C=0.1, gamma=0.0001, kernel=rbf; total time=   3.2s\n",
            "[CV] END ....................C=0.1, gamma=0.0001, kernel=rbf; total time=   3.2s\n",
            "[CV] END ....................C=0.1, gamma=0.0001, kernel=rbf; total time=   3.2s\n",
            "[CV] END ....................C=0.1, gamma=0.0001, kernel=rbf; total time=   3.2s\n",
            "[CV] END ....................C=0.1, gamma=0.0001, kernel=rbf; total time=   3.2s\n",
            "[CV] END ....................C=0.1, gamma=0.0001, kernel=rbf; total time=   3.2s\n",
            "[CV] END ....................C=0.1, gamma=0.0001, kernel=rbf; total time=   3.2s\n",
            "[CV] END ....................C=0.1, gamma=0.0001, kernel=rbf; total time=   3.2s\n",
            "[CV] END ....................C=0.1, gamma=0.0001, kernel=rbf; total time=   3.3s\n",
            "[CV] END ....................C=0.1, gamma=0.0001, kernel=rbf; total time=   3.2s\n",
            "[CV] END ...........................C=1, gamma=1, kernel=rbf; total time=   2.9s\n",
            "[CV] END ...........................C=1, gamma=1, kernel=rbf; total time=   2.9s\n",
            "[CV] END ...........................C=1, gamma=1, kernel=rbf; total time=   2.9s\n",
            "[CV] END ...........................C=1, gamma=1, kernel=rbf; total time=   2.9s\n",
            "[CV] END ...........................C=1, gamma=1, kernel=rbf; total time=   2.9s\n",
            "[CV] END ...........................C=1, gamma=1, kernel=rbf; total time=   2.9s\n",
            "[CV] END ...........................C=1, gamma=1, kernel=rbf; total time=   2.9s\n",
            "[CV] END ...........................C=1, gamma=1, kernel=rbf; total time=   2.9s\n",
            "[CV] END ...........................C=1, gamma=1, kernel=rbf; total time=   2.9s\n",
            "[CV] END ...........................C=1, gamma=1, kernel=rbf; total time=   2.9s\n",
            "[CV] END .........................C=1, gamma=0.1, kernel=rbf; total time=   3.1s\n",
            "[CV] END .........................C=1, gamma=0.1, kernel=rbf; total time=   3.1s\n",
            "[CV] END .........................C=1, gamma=0.1, kernel=rbf; total time=   3.1s\n",
            "[CV] END .........................C=1, gamma=0.1, kernel=rbf; total time=   3.2s\n",
            "[CV] END .........................C=1, gamma=0.1, kernel=rbf; total time=   3.1s\n",
            "[CV] END .........................C=1, gamma=0.1, kernel=rbf; total time=   3.1s\n",
            "[CV] END .........................C=1, gamma=0.1, kernel=rbf; total time=   3.2s\n",
            "[CV] END .........................C=1, gamma=0.1, kernel=rbf; total time=   3.1s\n",
            "[CV] END .........................C=1, gamma=0.1, kernel=rbf; total time=   3.1s\n",
            "[CV] END .........................C=1, gamma=0.1, kernel=rbf; total time=   3.1s\n",
            "[CV] END ........................C=1, gamma=0.01, kernel=rbf; total time=   3.7s\n",
            "[CV] END ........................C=1, gamma=0.01, kernel=rbf; total time=   3.7s\n",
            "[CV] END ........................C=1, gamma=0.01, kernel=rbf; total time=   3.8s\n",
            "[CV] END ........................C=1, gamma=0.01, kernel=rbf; total time=   3.8s\n",
            "[CV] END ........................C=1, gamma=0.01, kernel=rbf; total time=   3.7s\n",
            "[CV] END ........................C=1, gamma=0.01, kernel=rbf; total time=   3.8s\n",
            "[CV] END ........................C=1, gamma=0.01, kernel=rbf; total time=   3.7s\n",
            "[CV] END ........................C=1, gamma=0.01, kernel=rbf; total time=   3.7s\n",
            "[CV] END ........................C=1, gamma=0.01, kernel=rbf; total time=   3.8s\n",
            "[CV] END ........................C=1, gamma=0.01, kernel=rbf; total time=   3.8s\n",
            "[CV] END .......................C=1, gamma=0.001, kernel=rbf; total time=   4.2s\n",
            "[CV] END .......................C=1, gamma=0.001, kernel=rbf; total time=   4.1s\n",
            "[CV] END .......................C=1, gamma=0.001, kernel=rbf; total time=   3.9s\n",
            "[CV] END .......................C=1, gamma=0.001, kernel=rbf; total time=   4.2s\n",
            "[CV] END .......................C=1, gamma=0.001, kernel=rbf; total time=   4.2s\n",
            "[CV] END .......................C=1, gamma=0.001, kernel=rbf; total time=   4.2s\n",
            "[CV] END .......................C=1, gamma=0.001, kernel=rbf; total time=   4.0s\n",
            "[CV] END .......................C=1, gamma=0.001, kernel=rbf; total time=   4.0s\n",
            "[CV] END .......................C=1, gamma=0.001, kernel=rbf; total time=   4.0s\n",
            "[CV] END .......................C=1, gamma=0.001, kernel=rbf; total time=   4.2s\n",
            "[CV] END ......................C=1, gamma=0.0001, kernel=rbf; total time=   3.2s\n",
            "[CV] END ......................C=1, gamma=0.0001, kernel=rbf; total time=   3.2s\n",
            "[CV] END ......................C=1, gamma=0.0001, kernel=rbf; total time=   3.2s\n",
            "[CV] END ......................C=1, gamma=0.0001, kernel=rbf; total time=   3.2s\n",
            "[CV] END ......................C=1, gamma=0.0001, kernel=rbf; total time=   3.2s\n",
            "[CV] END ......................C=1, gamma=0.0001, kernel=rbf; total time=   3.2s\n",
            "[CV] END ......................C=1, gamma=0.0001, kernel=rbf; total time=   3.2s\n",
            "[CV] END ......................C=1, gamma=0.0001, kernel=rbf; total time=   3.2s\n",
            "[CV] END ......................C=1, gamma=0.0001, kernel=rbf; total time=   3.2s\n",
            "[CV] END ......................C=1, gamma=0.0001, kernel=rbf; total time=   3.1s\n",
            "[CV] END ..........................C=10, gamma=1, kernel=rbf; total time=   3.4s\n",
            "[CV] END ..........................C=10, gamma=1, kernel=rbf; total time=   3.3s\n",
            "[CV] END ..........................C=10, gamma=1, kernel=rbf; total time=   3.4s\n",
            "[CV] END ..........................C=10, gamma=1, kernel=rbf; total time=   3.3s\n",
            "[CV] END ..........................C=10, gamma=1, kernel=rbf; total time=   3.4s\n",
            "[CV] END ..........................C=10, gamma=1, kernel=rbf; total time=   3.4s\n",
            "[CV] END ..........................C=10, gamma=1, kernel=rbf; total time=   3.4s\n",
            "[CV] END ..........................C=10, gamma=1, kernel=rbf; total time=   3.4s\n",
            "[CV] END ..........................C=10, gamma=1, kernel=rbf; total time=   3.4s\n",
            "[CV] END ..........................C=10, gamma=1, kernel=rbf; total time=   3.4s\n",
            "[CV] END ........................C=10, gamma=0.1, kernel=rbf; total time=   3.6s\n",
            "[CV] END ........................C=10, gamma=0.1, kernel=rbf; total time=   3.5s\n",
            "[CV] END ........................C=10, gamma=0.1, kernel=rbf; total time=   3.6s\n",
            "[CV] END ........................C=10, gamma=0.1, kernel=rbf; total time=   3.5s\n",
            "[CV] END ........................C=10, gamma=0.1, kernel=rbf; total time=   3.6s\n",
            "[CV] END ........................C=10, gamma=0.1, kernel=rbf; total time=   3.6s\n",
            "[CV] END ........................C=10, gamma=0.1, kernel=rbf; total time=   3.6s\n",
            "[CV] END ........................C=10, gamma=0.1, kernel=rbf; total time=   3.6s\n",
            "[CV] END ........................C=10, gamma=0.1, kernel=rbf; total time=   3.6s\n",
            "[CV] END ........................C=10, gamma=0.1, kernel=rbf; total time=   3.5s\n",
            "[CV] END .......................C=10, gamma=0.01, kernel=rbf; total time=   3.2s\n",
            "[CV] END .......................C=10, gamma=0.01, kernel=rbf; total time=   3.2s\n",
            "[CV] END .......................C=10, gamma=0.01, kernel=rbf; total time=   3.2s\n",
            "[CV] END .......................C=10, gamma=0.01, kernel=rbf; total time=   3.2s\n",
            "[CV] END .......................C=10, gamma=0.01, kernel=rbf; total time=   3.2s\n"
          ]
        },
        {
          "output_type": "error",
          "ename": "KeyboardInterrupt",
          "evalue": "ignored",
          "traceback": [
            "\u001b[0;31m---------------------------------------------------------------------------\u001b[0m",
            "\u001b[0;31mKeyboardInterrupt\u001b[0m                         Traceback (most recent call last)",
            "\u001b[0;32m<ipython-input-56-05882ffe5d2a>\u001b[0m in \u001b[0;36m<module>\u001b[0;34m()\u001b[0m\n\u001b[1;32m      3\u001b[0m               'kernel': ['rbf']} \n\u001b[1;32m      4\u001b[0m \u001b[0mgrid\u001b[0m \u001b[0;34m=\u001b[0m \u001b[0mGridSearchCV\u001b[0m\u001b[0;34m(\u001b[0m\u001b[0mSVC\u001b[0m\u001b[0;34m(\u001b[0m\u001b[0;34m)\u001b[0m\u001b[0;34m,\u001b[0m \u001b[0mparam_grid\u001b[0m\u001b[0;34m,\u001b[0m \u001b[0mrefit\u001b[0m \u001b[0;34m=\u001b[0m \u001b[0;32mTrue\u001b[0m\u001b[0;34m,\u001b[0m \u001b[0mverbose\u001b[0m \u001b[0;34m=\u001b[0m \u001b[0;36m2\u001b[0m\u001b[0;34m,\u001b[0m\u001b[0mcv\u001b[0m\u001b[0;34m=\u001b[0m\u001b[0;36m10\u001b[0m\u001b[0;34m)\u001b[0m\u001b[0;34m\u001b[0m\u001b[0;34m\u001b[0m\u001b[0m\n\u001b[0;32m----> 5\u001b[0;31m \u001b[0mgrid\u001b[0m\u001b[0;34m.\u001b[0m\u001b[0mfit\u001b[0m\u001b[0;34m(\u001b[0m\u001b[0mX_train\u001b[0m\u001b[0;34m,\u001b[0m \u001b[0my_train\u001b[0m\u001b[0;34m)\u001b[0m\u001b[0;34m\u001b[0m\u001b[0;34m\u001b[0m\u001b[0m\n\u001b[0m\u001b[1;32m      6\u001b[0m \u001b[0mprint\u001b[0m\u001b[0;34m(\u001b[0m\u001b[0mgrid\u001b[0m\u001b[0;34m.\u001b[0m\u001b[0mbest_estimator_\u001b[0m\u001b[0;34m)\u001b[0m\u001b[0;34m\u001b[0m\u001b[0;34m\u001b[0m\u001b[0m\n",
            "\u001b[0;32m/usr/local/lib/python3.7/dist-packages/sklearn/model_selection/_search.py\u001b[0m in \u001b[0;36mfit\u001b[0;34m(self, X, y, groups, **fit_params)\u001b[0m\n\u001b[1;32m    889\u001b[0m                 \u001b[0;32mreturn\u001b[0m \u001b[0mresults\u001b[0m\u001b[0;34m\u001b[0m\u001b[0;34m\u001b[0m\u001b[0m\n\u001b[1;32m    890\u001b[0m \u001b[0;34m\u001b[0m\u001b[0m\n\u001b[0;32m--> 891\u001b[0;31m             \u001b[0mself\u001b[0m\u001b[0;34m.\u001b[0m\u001b[0m_run_search\u001b[0m\u001b[0;34m(\u001b[0m\u001b[0mevaluate_candidates\u001b[0m\u001b[0;34m)\u001b[0m\u001b[0;34m\u001b[0m\u001b[0;34m\u001b[0m\u001b[0m\n\u001b[0m\u001b[1;32m    892\u001b[0m \u001b[0;34m\u001b[0m\u001b[0m\n\u001b[1;32m    893\u001b[0m             \u001b[0;31m# multimetric is determined here because in the case of a callable\u001b[0m\u001b[0;34m\u001b[0m\u001b[0;34m\u001b[0m\u001b[0;34m\u001b[0m\u001b[0m\n",
            "\u001b[0;32m/usr/local/lib/python3.7/dist-packages/sklearn/model_selection/_search.py\u001b[0m in \u001b[0;36m_run_search\u001b[0;34m(self, evaluate_candidates)\u001b[0m\n\u001b[1;32m   1390\u001b[0m     \u001b[0;32mdef\u001b[0m \u001b[0m_run_search\u001b[0m\u001b[0;34m(\u001b[0m\u001b[0mself\u001b[0m\u001b[0;34m,\u001b[0m \u001b[0mevaluate_candidates\u001b[0m\u001b[0;34m)\u001b[0m\u001b[0;34m:\u001b[0m\u001b[0;34m\u001b[0m\u001b[0;34m\u001b[0m\u001b[0m\n\u001b[1;32m   1391\u001b[0m         \u001b[0;34m\"\"\"Search all candidates in param_grid\"\"\"\u001b[0m\u001b[0;34m\u001b[0m\u001b[0;34m\u001b[0m\u001b[0m\n\u001b[0;32m-> 1392\u001b[0;31m         \u001b[0mevaluate_candidates\u001b[0m\u001b[0;34m(\u001b[0m\u001b[0mParameterGrid\u001b[0m\u001b[0;34m(\u001b[0m\u001b[0mself\u001b[0m\u001b[0;34m.\u001b[0m\u001b[0mparam_grid\u001b[0m\u001b[0;34m)\u001b[0m\u001b[0;34m)\u001b[0m\u001b[0;34m\u001b[0m\u001b[0;34m\u001b[0m\u001b[0m\n\u001b[0m\u001b[1;32m   1393\u001b[0m \u001b[0;34m\u001b[0m\u001b[0m\n\u001b[1;32m   1394\u001b[0m \u001b[0;34m\u001b[0m\u001b[0m\n",
            "\u001b[0;32m/usr/local/lib/python3.7/dist-packages/sklearn/model_selection/_search.py\u001b[0m in \u001b[0;36mevaluate_candidates\u001b[0;34m(candidate_params, cv, more_results)\u001b[0m\n\u001b[1;32m    849\u001b[0m                     )\n\u001b[1;32m    850\u001b[0m                     for (cand_idx, parameters), (split_idx, (train, test)) in product(\n\u001b[0;32m--> 851\u001b[0;31m                         \u001b[0menumerate\u001b[0m\u001b[0;34m(\u001b[0m\u001b[0mcandidate_params\u001b[0m\u001b[0;34m)\u001b[0m\u001b[0;34m,\u001b[0m \u001b[0menumerate\u001b[0m\u001b[0;34m(\u001b[0m\u001b[0mcv\u001b[0m\u001b[0;34m.\u001b[0m\u001b[0msplit\u001b[0m\u001b[0;34m(\u001b[0m\u001b[0mX\u001b[0m\u001b[0;34m,\u001b[0m \u001b[0my\u001b[0m\u001b[0;34m,\u001b[0m \u001b[0mgroups\u001b[0m\u001b[0;34m)\u001b[0m\u001b[0;34m)\u001b[0m\u001b[0;34m\u001b[0m\u001b[0;34m\u001b[0m\u001b[0m\n\u001b[0m\u001b[1;32m    852\u001b[0m                     )\n\u001b[1;32m    853\u001b[0m                 )\n",
            "\u001b[0;32m/usr/local/lib/python3.7/dist-packages/joblib/parallel.py\u001b[0m in \u001b[0;36m__call__\u001b[0;34m(self, iterable)\u001b[0m\n\u001b[1;32m   1044\u001b[0m                 \u001b[0mself\u001b[0m\u001b[0;34m.\u001b[0m\u001b[0m_iterating\u001b[0m \u001b[0;34m=\u001b[0m \u001b[0mself\u001b[0m\u001b[0;34m.\u001b[0m\u001b[0m_original_iterator\u001b[0m \u001b[0;32mis\u001b[0m \u001b[0;32mnot\u001b[0m \u001b[0;32mNone\u001b[0m\u001b[0;34m\u001b[0m\u001b[0;34m\u001b[0m\u001b[0m\n\u001b[1;32m   1045\u001b[0m \u001b[0;34m\u001b[0m\u001b[0m\n\u001b[0;32m-> 1046\u001b[0;31m             \u001b[0;32mwhile\u001b[0m \u001b[0mself\u001b[0m\u001b[0;34m.\u001b[0m\u001b[0mdispatch_one_batch\u001b[0m\u001b[0;34m(\u001b[0m\u001b[0miterator\u001b[0m\u001b[0;34m)\u001b[0m\u001b[0;34m:\u001b[0m\u001b[0;34m\u001b[0m\u001b[0;34m\u001b[0m\u001b[0m\n\u001b[0m\u001b[1;32m   1047\u001b[0m                 \u001b[0;32mpass\u001b[0m\u001b[0;34m\u001b[0m\u001b[0;34m\u001b[0m\u001b[0m\n\u001b[1;32m   1048\u001b[0m \u001b[0;34m\u001b[0m\u001b[0m\n",
            "\u001b[0;32m/usr/local/lib/python3.7/dist-packages/joblib/parallel.py\u001b[0m in \u001b[0;36mdispatch_one_batch\u001b[0;34m(self, iterator)\u001b[0m\n\u001b[1;32m    859\u001b[0m                 \u001b[0;32mreturn\u001b[0m \u001b[0;32mFalse\u001b[0m\u001b[0;34m\u001b[0m\u001b[0;34m\u001b[0m\u001b[0m\n\u001b[1;32m    860\u001b[0m             \u001b[0;32melse\u001b[0m\u001b[0;34m:\u001b[0m\u001b[0;34m\u001b[0m\u001b[0;34m\u001b[0m\u001b[0m\n\u001b[0;32m--> 861\u001b[0;31m                 \u001b[0mself\u001b[0m\u001b[0;34m.\u001b[0m\u001b[0m_dispatch\u001b[0m\u001b[0;34m(\u001b[0m\u001b[0mtasks\u001b[0m\u001b[0;34m)\u001b[0m\u001b[0;34m\u001b[0m\u001b[0;34m\u001b[0m\u001b[0m\n\u001b[0m\u001b[1;32m    862\u001b[0m                 \u001b[0;32mreturn\u001b[0m \u001b[0;32mTrue\u001b[0m\u001b[0;34m\u001b[0m\u001b[0;34m\u001b[0m\u001b[0m\n\u001b[1;32m    863\u001b[0m \u001b[0;34m\u001b[0m\u001b[0m\n",
            "\u001b[0;32m/usr/local/lib/python3.7/dist-packages/joblib/parallel.py\u001b[0m in \u001b[0;36m_dispatch\u001b[0;34m(self, batch)\u001b[0m\n\u001b[1;32m    777\u001b[0m         \u001b[0;32mwith\u001b[0m \u001b[0mself\u001b[0m\u001b[0;34m.\u001b[0m\u001b[0m_lock\u001b[0m\u001b[0;34m:\u001b[0m\u001b[0;34m\u001b[0m\u001b[0;34m\u001b[0m\u001b[0m\n\u001b[1;32m    778\u001b[0m             \u001b[0mjob_idx\u001b[0m \u001b[0;34m=\u001b[0m \u001b[0mlen\u001b[0m\u001b[0;34m(\u001b[0m\u001b[0mself\u001b[0m\u001b[0;34m.\u001b[0m\u001b[0m_jobs\u001b[0m\u001b[0;34m)\u001b[0m\u001b[0;34m\u001b[0m\u001b[0;34m\u001b[0m\u001b[0m\n\u001b[0;32m--> 779\u001b[0;31m             \u001b[0mjob\u001b[0m \u001b[0;34m=\u001b[0m \u001b[0mself\u001b[0m\u001b[0;34m.\u001b[0m\u001b[0m_backend\u001b[0m\u001b[0;34m.\u001b[0m\u001b[0mapply_async\u001b[0m\u001b[0;34m(\u001b[0m\u001b[0mbatch\u001b[0m\u001b[0;34m,\u001b[0m \u001b[0mcallback\u001b[0m\u001b[0;34m=\u001b[0m\u001b[0mcb\u001b[0m\u001b[0;34m)\u001b[0m\u001b[0;34m\u001b[0m\u001b[0;34m\u001b[0m\u001b[0m\n\u001b[0m\u001b[1;32m    780\u001b[0m             \u001b[0;31m# A job can complete so quickly than its callback is\u001b[0m\u001b[0;34m\u001b[0m\u001b[0;34m\u001b[0m\u001b[0;34m\u001b[0m\u001b[0m\n\u001b[1;32m    781\u001b[0m             \u001b[0;31m# called before we get here, causing self._jobs to\u001b[0m\u001b[0;34m\u001b[0m\u001b[0;34m\u001b[0m\u001b[0;34m\u001b[0m\u001b[0m\n",
            "\u001b[0;32m/usr/local/lib/python3.7/dist-packages/joblib/_parallel_backends.py\u001b[0m in \u001b[0;36mapply_async\u001b[0;34m(self, func, callback)\u001b[0m\n\u001b[1;32m    206\u001b[0m     \u001b[0;32mdef\u001b[0m \u001b[0mapply_async\u001b[0m\u001b[0;34m(\u001b[0m\u001b[0mself\u001b[0m\u001b[0;34m,\u001b[0m \u001b[0mfunc\u001b[0m\u001b[0;34m,\u001b[0m \u001b[0mcallback\u001b[0m\u001b[0;34m=\u001b[0m\u001b[0;32mNone\u001b[0m\u001b[0;34m)\u001b[0m\u001b[0;34m:\u001b[0m\u001b[0;34m\u001b[0m\u001b[0;34m\u001b[0m\u001b[0m\n\u001b[1;32m    207\u001b[0m         \u001b[0;34m\"\"\"Schedule a func to be run\"\"\"\u001b[0m\u001b[0;34m\u001b[0m\u001b[0;34m\u001b[0m\u001b[0m\n\u001b[0;32m--> 208\u001b[0;31m         \u001b[0mresult\u001b[0m \u001b[0;34m=\u001b[0m \u001b[0mImmediateResult\u001b[0m\u001b[0;34m(\u001b[0m\u001b[0mfunc\u001b[0m\u001b[0;34m)\u001b[0m\u001b[0;34m\u001b[0m\u001b[0;34m\u001b[0m\u001b[0m\n\u001b[0m\u001b[1;32m    209\u001b[0m         \u001b[0;32mif\u001b[0m \u001b[0mcallback\u001b[0m\u001b[0;34m:\u001b[0m\u001b[0;34m\u001b[0m\u001b[0;34m\u001b[0m\u001b[0m\n\u001b[1;32m    210\u001b[0m             \u001b[0mcallback\u001b[0m\u001b[0;34m(\u001b[0m\u001b[0mresult\u001b[0m\u001b[0;34m)\u001b[0m\u001b[0;34m\u001b[0m\u001b[0;34m\u001b[0m\u001b[0m\n",
            "\u001b[0;32m/usr/local/lib/python3.7/dist-packages/joblib/_parallel_backends.py\u001b[0m in \u001b[0;36m__init__\u001b[0;34m(self, batch)\u001b[0m\n\u001b[1;32m    570\u001b[0m         \u001b[0;31m# Don't delay the application, to avoid keeping the input\u001b[0m\u001b[0;34m\u001b[0m\u001b[0;34m\u001b[0m\u001b[0;34m\u001b[0m\u001b[0m\n\u001b[1;32m    571\u001b[0m         \u001b[0;31m# arguments in memory\u001b[0m\u001b[0;34m\u001b[0m\u001b[0;34m\u001b[0m\u001b[0;34m\u001b[0m\u001b[0m\n\u001b[0;32m--> 572\u001b[0;31m         \u001b[0mself\u001b[0m\u001b[0;34m.\u001b[0m\u001b[0mresults\u001b[0m \u001b[0;34m=\u001b[0m \u001b[0mbatch\u001b[0m\u001b[0;34m(\u001b[0m\u001b[0;34m)\u001b[0m\u001b[0;34m\u001b[0m\u001b[0;34m\u001b[0m\u001b[0m\n\u001b[0m\u001b[1;32m    573\u001b[0m \u001b[0;34m\u001b[0m\u001b[0m\n\u001b[1;32m    574\u001b[0m     \u001b[0;32mdef\u001b[0m \u001b[0mget\u001b[0m\u001b[0;34m(\u001b[0m\u001b[0mself\u001b[0m\u001b[0;34m)\u001b[0m\u001b[0;34m:\u001b[0m\u001b[0;34m\u001b[0m\u001b[0;34m\u001b[0m\u001b[0m\n",
            "\u001b[0;32m/usr/local/lib/python3.7/dist-packages/joblib/parallel.py\u001b[0m in \u001b[0;36m__call__\u001b[0;34m(self)\u001b[0m\n\u001b[1;32m    261\u001b[0m         \u001b[0;32mwith\u001b[0m \u001b[0mparallel_backend\u001b[0m\u001b[0;34m(\u001b[0m\u001b[0mself\u001b[0m\u001b[0;34m.\u001b[0m\u001b[0m_backend\u001b[0m\u001b[0;34m,\u001b[0m \u001b[0mn_jobs\u001b[0m\u001b[0;34m=\u001b[0m\u001b[0mself\u001b[0m\u001b[0;34m.\u001b[0m\u001b[0m_n_jobs\u001b[0m\u001b[0;34m)\u001b[0m\u001b[0;34m:\u001b[0m\u001b[0;34m\u001b[0m\u001b[0;34m\u001b[0m\u001b[0m\n\u001b[1;32m    262\u001b[0m             return [func(*args, **kwargs)\n\u001b[0;32m--> 263\u001b[0;31m                     for func, args, kwargs in self.items]\n\u001b[0m\u001b[1;32m    264\u001b[0m \u001b[0;34m\u001b[0m\u001b[0m\n\u001b[1;32m    265\u001b[0m     \u001b[0;32mdef\u001b[0m \u001b[0m__reduce__\u001b[0m\u001b[0;34m(\u001b[0m\u001b[0mself\u001b[0m\u001b[0;34m)\u001b[0m\u001b[0;34m:\u001b[0m\u001b[0;34m\u001b[0m\u001b[0;34m\u001b[0m\u001b[0m\n",
            "\u001b[0;32m/usr/local/lib/python3.7/dist-packages/joblib/parallel.py\u001b[0m in \u001b[0;36m<listcomp>\u001b[0;34m(.0)\u001b[0m\n\u001b[1;32m    261\u001b[0m         \u001b[0;32mwith\u001b[0m \u001b[0mparallel_backend\u001b[0m\u001b[0;34m(\u001b[0m\u001b[0mself\u001b[0m\u001b[0;34m.\u001b[0m\u001b[0m_backend\u001b[0m\u001b[0;34m,\u001b[0m \u001b[0mn_jobs\u001b[0m\u001b[0;34m=\u001b[0m\u001b[0mself\u001b[0m\u001b[0;34m.\u001b[0m\u001b[0m_n_jobs\u001b[0m\u001b[0;34m)\u001b[0m\u001b[0;34m:\u001b[0m\u001b[0;34m\u001b[0m\u001b[0;34m\u001b[0m\u001b[0m\n\u001b[1;32m    262\u001b[0m             return [func(*args, **kwargs)\n\u001b[0;32m--> 263\u001b[0;31m                     for func, args, kwargs in self.items]\n\u001b[0m\u001b[1;32m    264\u001b[0m \u001b[0;34m\u001b[0m\u001b[0m\n\u001b[1;32m    265\u001b[0m     \u001b[0;32mdef\u001b[0m \u001b[0m__reduce__\u001b[0m\u001b[0;34m(\u001b[0m\u001b[0mself\u001b[0m\u001b[0;34m)\u001b[0m\u001b[0;34m:\u001b[0m\u001b[0;34m\u001b[0m\u001b[0;34m\u001b[0m\u001b[0m\n",
            "\u001b[0;32m/usr/local/lib/python3.7/dist-packages/sklearn/utils/fixes.py\u001b[0m in \u001b[0;36m__call__\u001b[0;34m(self, *args, **kwargs)\u001b[0m\n\u001b[1;32m    209\u001b[0m     \u001b[0;32mdef\u001b[0m \u001b[0m__call__\u001b[0m\u001b[0;34m(\u001b[0m\u001b[0mself\u001b[0m\u001b[0;34m,\u001b[0m \u001b[0;34m*\u001b[0m\u001b[0margs\u001b[0m\u001b[0;34m,\u001b[0m \u001b[0;34m**\u001b[0m\u001b[0mkwargs\u001b[0m\u001b[0;34m)\u001b[0m\u001b[0;34m:\u001b[0m\u001b[0;34m\u001b[0m\u001b[0;34m\u001b[0m\u001b[0m\n\u001b[1;32m    210\u001b[0m         \u001b[0;32mwith\u001b[0m \u001b[0mconfig_context\u001b[0m\u001b[0;34m(\u001b[0m\u001b[0;34m**\u001b[0m\u001b[0mself\u001b[0m\u001b[0;34m.\u001b[0m\u001b[0mconfig\u001b[0m\u001b[0;34m)\u001b[0m\u001b[0;34m:\u001b[0m\u001b[0;34m\u001b[0m\u001b[0;34m\u001b[0m\u001b[0m\n\u001b[0;32m--> 211\u001b[0;31m             \u001b[0;32mreturn\u001b[0m \u001b[0mself\u001b[0m\u001b[0;34m.\u001b[0m\u001b[0mfunction\u001b[0m\u001b[0;34m(\u001b[0m\u001b[0;34m*\u001b[0m\u001b[0margs\u001b[0m\u001b[0;34m,\u001b[0m \u001b[0;34m**\u001b[0m\u001b[0mkwargs\u001b[0m\u001b[0;34m)\u001b[0m\u001b[0;34m\u001b[0m\u001b[0;34m\u001b[0m\u001b[0m\n\u001b[0m\u001b[1;32m    212\u001b[0m \u001b[0;34m\u001b[0m\u001b[0m\n\u001b[1;32m    213\u001b[0m \u001b[0;34m\u001b[0m\u001b[0m\n",
            "\u001b[0;32m/usr/local/lib/python3.7/dist-packages/sklearn/model_selection/_validation.py\u001b[0m in \u001b[0;36m_fit_and_score\u001b[0;34m(estimator, X, y, scorer, train, test, verbose, parameters, fit_params, return_train_score, return_parameters, return_n_test_samples, return_times, return_estimator, split_progress, candidate_progress, error_score)\u001b[0m\n\u001b[1;32m    679\u001b[0m             \u001b[0mestimator\u001b[0m\u001b[0;34m.\u001b[0m\u001b[0mfit\u001b[0m\u001b[0;34m(\u001b[0m\u001b[0mX_train\u001b[0m\u001b[0;34m,\u001b[0m \u001b[0;34m**\u001b[0m\u001b[0mfit_params\u001b[0m\u001b[0;34m)\u001b[0m\u001b[0;34m\u001b[0m\u001b[0;34m\u001b[0m\u001b[0m\n\u001b[1;32m    680\u001b[0m         \u001b[0;32melse\u001b[0m\u001b[0;34m:\u001b[0m\u001b[0;34m\u001b[0m\u001b[0;34m\u001b[0m\u001b[0m\n\u001b[0;32m--> 681\u001b[0;31m             \u001b[0mestimator\u001b[0m\u001b[0;34m.\u001b[0m\u001b[0mfit\u001b[0m\u001b[0;34m(\u001b[0m\u001b[0mX_train\u001b[0m\u001b[0;34m,\u001b[0m \u001b[0my_train\u001b[0m\u001b[0;34m,\u001b[0m \u001b[0;34m**\u001b[0m\u001b[0mfit_params\u001b[0m\u001b[0;34m)\u001b[0m\u001b[0;34m\u001b[0m\u001b[0;34m\u001b[0m\u001b[0m\n\u001b[0m\u001b[1;32m    682\u001b[0m \u001b[0;34m\u001b[0m\u001b[0m\n\u001b[1;32m    683\u001b[0m     \u001b[0;32mexcept\u001b[0m \u001b[0mException\u001b[0m\u001b[0;34m:\u001b[0m\u001b[0;34m\u001b[0m\u001b[0;34m\u001b[0m\u001b[0m\n",
            "\u001b[0;32m/usr/local/lib/python3.7/dist-packages/sklearn/svm/_base.py\u001b[0m in \u001b[0;36mfit\u001b[0;34m(self, X, y, sample_weight)\u001b[0m\n\u001b[1;32m    253\u001b[0m \u001b[0;34m\u001b[0m\u001b[0m\n\u001b[1;32m    254\u001b[0m         \u001b[0mseed\u001b[0m \u001b[0;34m=\u001b[0m \u001b[0mrnd\u001b[0m\u001b[0;34m.\u001b[0m\u001b[0mrandint\u001b[0m\u001b[0;34m(\u001b[0m\u001b[0mnp\u001b[0m\u001b[0;34m.\u001b[0m\u001b[0miinfo\u001b[0m\u001b[0;34m(\u001b[0m\u001b[0;34m\"i\"\u001b[0m\u001b[0;34m)\u001b[0m\u001b[0;34m.\u001b[0m\u001b[0mmax\u001b[0m\u001b[0;34m)\u001b[0m\u001b[0;34m\u001b[0m\u001b[0;34m\u001b[0m\u001b[0m\n\u001b[0;32m--> 255\u001b[0;31m         \u001b[0mfit\u001b[0m\u001b[0;34m(\u001b[0m\u001b[0mX\u001b[0m\u001b[0;34m,\u001b[0m \u001b[0my\u001b[0m\u001b[0;34m,\u001b[0m \u001b[0msample_weight\u001b[0m\u001b[0;34m,\u001b[0m \u001b[0msolver_type\u001b[0m\u001b[0;34m,\u001b[0m \u001b[0mkernel\u001b[0m\u001b[0;34m,\u001b[0m \u001b[0mrandom_seed\u001b[0m\u001b[0;34m=\u001b[0m\u001b[0mseed\u001b[0m\u001b[0;34m)\u001b[0m\u001b[0;34m\u001b[0m\u001b[0;34m\u001b[0m\u001b[0m\n\u001b[0m\u001b[1;32m    256\u001b[0m         \u001b[0;31m# see comment on the other call to np.iinfo in this file\u001b[0m\u001b[0;34m\u001b[0m\u001b[0;34m\u001b[0m\u001b[0;34m\u001b[0m\u001b[0m\n\u001b[1;32m    257\u001b[0m \u001b[0;34m\u001b[0m\u001b[0m\n",
            "\u001b[0;32m/usr/local/lib/python3.7/dist-packages/sklearn/svm/_base.py\u001b[0m in \u001b[0;36m_dense_fit\u001b[0;34m(self, X, y, sample_weight, solver_type, kernel, random_seed)\u001b[0m\n\u001b[1;32m    331\u001b[0m             \u001b[0mepsilon\u001b[0m\u001b[0;34m=\u001b[0m\u001b[0mself\u001b[0m\u001b[0;34m.\u001b[0m\u001b[0mepsilon\u001b[0m\u001b[0;34m,\u001b[0m\u001b[0;34m\u001b[0m\u001b[0;34m\u001b[0m\u001b[0m\n\u001b[1;32m    332\u001b[0m             \u001b[0mmax_iter\u001b[0m\u001b[0;34m=\u001b[0m\u001b[0mself\u001b[0m\u001b[0;34m.\u001b[0m\u001b[0mmax_iter\u001b[0m\u001b[0;34m,\u001b[0m\u001b[0;34m\u001b[0m\u001b[0;34m\u001b[0m\u001b[0m\n\u001b[0;32m--> 333\u001b[0;31m             \u001b[0mrandom_seed\u001b[0m\u001b[0;34m=\u001b[0m\u001b[0mrandom_seed\u001b[0m\u001b[0;34m,\u001b[0m\u001b[0;34m\u001b[0m\u001b[0;34m\u001b[0m\u001b[0m\n\u001b[0m\u001b[1;32m    334\u001b[0m         )\n\u001b[1;32m    335\u001b[0m \u001b[0;34m\u001b[0m\u001b[0m\n",
            "\u001b[0;31mKeyboardInterrupt\u001b[0m: "
          ]
        }
      ],
      "source": [
        "param_grid = {'C': [0.1, 1, 10],\n",
        "              'gamma': [1, 0.1, 0.01, 0.001, 0.0001],\n",
        "              'kernel': ['rbf']} \n",
        "grid = GridSearchCV(SVC(), param_grid, refit = True, verbose = 2,cv=10)\n",
        "grid.fit(X_train, y_train)\n",
        "print(grid.best_estimator_)"
      ]
    },
    {
      "cell_type": "code",
      "execution_count": 57,
      "metadata": {
        "id": "Em2nVbJDh0D0"
      },
      "outputs": [],
      "source": [
        "svm_clf=SVC(C=10,gamma=0.1,kernel='rbf')"
      ]
    },
    {
      "cell_type": "code",
      "execution_count": 58,
      "metadata": {
        "id": "rwVvUiASffFA",
        "colab": {
          "base_uri": "https://localhost:8080/"
        },
        "outputId": "492347a7-806d-4b7e-b86a-ac8fe1dc608d"
      },
      "outputs": [
        {
          "output_type": "execute_result",
          "data": {
            "text/plain": [
              "0.5347865034338608"
            ]
          },
          "metadata": {},
          "execution_count": 58
        }
      ],
      "source": [
        "svm_clf.fit(X_train,y_train)\n",
        "svm_clf.predict(X_test)\n",
        "svm_clf.score(X_test,y_test)"
      ]
    },
    {
      "cell_type": "code",
      "execution_count": 59,
      "metadata": {
        "id": "5LfNbUaUfei3",
        "colab": {
          "base_uri": "https://localhost:8080/",
          "height": 282
        },
        "outputId": "0a242171-83b7-4dc7-8a8f-c60d0bb10ad3"
      },
      "outputs": [
        {
          "output_type": "execute_result",
          "data": {
            "text/plain": [
              "<matplotlib.axes._subplots.AxesSubplot at 0x7f5315f3d890>"
            ]
          },
          "metadata": {},
          "execution_count": 59
        },
        {
          "output_type": "display_data",
          "data": {
            "image/png": "[encoded data removed]",
            "text/plain": [
              "<Figure size 432x288 with 2 Axes>"
            ]
          },
          "metadata": {
            "needs_background": "light"
          }
        }
      ],
      "source": [
        "confusion=confusion_matrix(y_test, svm_clf.predict(X_test))\n",
        "sns.heatmap(confusion,annot=True)"
      ]
    },
    {
      "cell_type": "code",
      "execution_count": 60,
      "metadata": {
        "id": "j_iZXw28gBIf",
        "colab": {
          "base_uri": "https://localhost:8080/"
        },
        "outputId": "4bdc777e-27fc-4169-8583-40eb8710dc1f"
      },
      "outputs": [
        {
          "output_type": "execute_result",
          "data": {
            "text/plain": [
              "0.0006422607578676942"
            ]
          },
          "metadata": {},
          "execution_count": 60
        }
      ],
      "source": [
        "rec=recall_score(y_test,svm_clf.predict(X_test))\n",
        "rec"
      ]
    },
    {
      "cell_type": "code",
      "source": [
        "roc4=random_clf.predict(X_test)\n",
        "fpr4, tpr4, threshold4 = metrics.roc_curve(y_test, roc4)"
      ],
      "metadata": {
        "id": "xaEUuEWz6T84"
      },
      "execution_count": 63,
      "outputs": []
    },
    {
      "cell_type": "code",
      "source": [
        "plt.plot([0,1],[0,1], 'k--')\n",
        "plt.plot(fpr1, tpr1, label= \"Linear Regression\")\n",
        "plt.plot(fpr2, tpr2, label= \"Decision Tree\")\n",
        "plt.plot(fpr3, tpr3, label= \"Random Forest\")\n",
        "plt.plot(fpr4, tpr4, label= \"SVM\")\n",
        "plt.legend()\n",
        "plt.xlabel(\"FPR\")\n",
        "plt.ylabel(\"TPR\")\n",
        "plt.title('Receiver Operating Characteristic')\n",
        "plt.show()"
      ],
      "metadata": {
        "colab": {
          "base_uri": "https://localhost:8080/",
          "height": 295
        },
        "id": "O-p7AT4U612w",
        "outputId": "fbbaecf3-322a-4948-f0a9-c711fabb1431"
      },
      "execution_count": 64,
      "outputs": [
        {
          "output_type": "display_data",
          "data": {
            "image/png": "[encoded data removed]",
            "text/plain": [
              "<Figure size 432x288 with 1 Axes>"
            ]
          },
          "metadata": {
            "needs_background": "light"
          }
        }
      ]
    }
  ],
  "metadata": {
    "colab": {
      "collapsed_sections": [],
      "name": "Projet_DM.ipynb",
      "provenance": []
    },
    "kernelspec": {
      "display_name": "Python 3",
      "name": "python3"
    },
    "language_info": {
      "name": "python"
    }
  },
  "nbformat": 4,
  "nbformat_minor": 0
}